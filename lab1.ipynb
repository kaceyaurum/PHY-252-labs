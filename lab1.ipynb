{
 "cells": [
  {
   "cell_type": "code",
   "execution_count": 408,
   "metadata": {},
   "outputs": [],
   "source": [
    "room = 297.15\n",
    "\n",
    "distance = .5\n",
    "\n",
    "# DCR = 20 points/s\n",
    "\n",
    "diameter = .0495\n",
    "\n",
    "length = .875\n",
    "\n",
    "height = .875 + .0495/2"
   ]
  },
  {
   "cell_type": "code",
   "execution_count": 1,
   "metadata": {
    "collapsed": true
   },
   "outputs": [],
   "source": [
    "import pandas as pd\n",
    "import numpy as np\n",
    "import matplotlib.pyplot as plt\n",
    "import peakutils\n",
    "from __future__ import division\n",
    "%matplotlib inline"
   ]
  },
  {
   "cell_type": "code",
   "execution_count": 2,
   "metadata": {
    "collapsed": true
   },
   "outputs": [],
   "source": [
    "data = pd.read_csv('/home/kreidy/PHY-252-labs-master/lab1-data.csv')"
   ]
  },
  {
   "cell_type": "code",
   "execution_count": 3,
   "metadata": {
    "scrolled": true
   },
   "outputs": [
    {
     "data": {
      "text/html": [
       "<div>\n",
       "<style>\n",
       "    .dataframe thead tr:only-child th {\n",
       "        text-align: right;\n",
       "    }\n",
       "\n",
       "    .dataframe thead th {\n",
       "        text-align: left;\n",
       "    }\n",
       "\n",
       "    .dataframe tbody tr th {\n",
       "        vertical-align: top;\n",
       "    }\n",
       "</style>\n",
       "<table border=\"1\" class=\"dataframe\">\n",
       "  <thead>\n",
       "    <tr style=\"text-align: right;\">\n",
       "      <th></th>\n",
       "      <th>Unnamed: 0</th>\n",
       "      <th>time</th>\n",
       "      <th>x</th>\n",
       "      <th>v</th>\n",
       "      <th>a</th>\n",
       "    </tr>\n",
       "  </thead>\n",
       "  <tbody>\n",
       "    <tr>\n",
       "      <th>0</th>\n",
       "      <td>0</td>\n",
       "      <td>0.05</td>\n",
       "      <td>0.823606</td>\n",
       "      <td>-0.488357</td>\n",
       "      <td>-1.354608</td>\n",
       "    </tr>\n",
       "    <tr>\n",
       "      <th>1</th>\n",
       "      <td>1</td>\n",
       "      <td>0.10</td>\n",
       "      <td>0.800983</td>\n",
       "      <td>-0.545540</td>\n",
       "      <td>-1.631983</td>\n",
       "    </tr>\n",
       "    <tr>\n",
       "      <th>2</th>\n",
       "      <td>2</td>\n",
       "      <td>0.15</td>\n",
       "      <td>0.773178</td>\n",
       "      <td>-0.635018</td>\n",
       "      <td>-1.964846</td>\n",
       "    </tr>\n",
       "    <tr>\n",
       "      <th>3</th>\n",
       "      <td>3</td>\n",
       "      <td>0.20</td>\n",
       "      <td>0.738983</td>\n",
       "      <td>-0.752876</td>\n",
       "      <td>-2.068967</td>\n",
       "    </tr>\n",
       "    <tr>\n",
       "      <th>4</th>\n",
       "      <td>4</td>\n",
       "      <td>0.25</td>\n",
       "      <td>0.697190</td>\n",
       "      <td>-0.861389</td>\n",
       "      <td>-1.766721</td>\n",
       "    </tr>\n",
       "    <tr>\n",
       "      <th>5</th>\n",
       "      <td>5</td>\n",
       "      <td>0.30</td>\n",
       "      <td>0.652115</td>\n",
       "      <td>-0.948027</td>\n",
       "      <td>-1.089897</td>\n",
       "    </tr>\n",
       "    <tr>\n",
       "      <th>6</th>\n",
       "      <td>6</td>\n",
       "      <td>0.35</td>\n",
       "      <td>0.598924</td>\n",
       "      <td>-0.967696</td>\n",
       "      <td>-0.427432</td>\n",
       "    </tr>\n",
       "    <tr>\n",
       "      <th>7</th>\n",
       "      <td>7</td>\n",
       "      <td>0.40</td>\n",
       "      <td>0.555058</td>\n",
       "      <td>-0.971246</td>\n",
       "      <td>-0.097224</td>\n",
       "    </tr>\n",
       "    <tr>\n",
       "      <th>8</th>\n",
       "      <td>8</td>\n",
       "      <td>0.45</td>\n",
       "      <td>0.502902</td>\n",
       "      <td>-0.984966</td>\n",
       "      <td>0.328290</td>\n",
       "    </tr>\n",
       "    <tr>\n",
       "      <th>9</th>\n",
       "      <td>9</td>\n",
       "      <td>0.50</td>\n",
       "      <td>0.453510</td>\n",
       "      <td>-0.942558</td>\n",
       "      <td>0.823523</td>\n",
       "    </tr>\n",
       "    <tr>\n",
       "      <th>10</th>\n",
       "      <td>10</td>\n",
       "      <td>0.55</td>\n",
       "      <td>0.408954</td>\n",
       "      <td>-0.897368</td>\n",
       "      <td>1.269292</td>\n",
       "    </tr>\n",
       "    <tr>\n",
       "      <th>11</th>\n",
       "      <td>11</td>\n",
       "      <td>0.60</td>\n",
       "      <td>0.363015</td>\n",
       "      <td>-0.826274</td>\n",
       "      <td>1.896982</td>\n",
       "    </tr>\n",
       "    <tr>\n",
       "      <th>12</th>\n",
       "      <td>12</td>\n",
       "      <td>0.65</td>\n",
       "      <td>0.323985</td>\n",
       "      <td>-0.708646</td>\n",
       "      <td>2.521900</td>\n",
       "    </tr>\n",
       "    <tr>\n",
       "      <th>13</th>\n",
       "      <td>13</td>\n",
       "      <td>0.70</td>\n",
       "      <td>0.291000</td>\n",
       "      <td>-0.562043</td>\n",
       "      <td>2.917297</td>\n",
       "    </tr>\n",
       "    <tr>\n",
       "      <th>14</th>\n",
       "      <td>14</td>\n",
       "      <td>0.75</td>\n",
       "      <td>0.267858</td>\n",
       "      <td>-0.410450</td>\n",
       "      <td>3.138503</td>\n",
       "    </tr>\n",
       "    <tr>\n",
       "      <th>15</th>\n",
       "      <td>15</td>\n",
       "      <td>0.80</td>\n",
       "      <td>0.249379</td>\n",
       "      <td>-0.241972</td>\n",
       "      <td>3.101084</td>\n",
       "    </tr>\n",
       "    <tr>\n",
       "      <th>16</th>\n",
       "      <td>16</td>\n",
       "      <td>0.85</td>\n",
       "      <td>0.243334</td>\n",
       "      <td>-0.082896</td>\n",
       "      <td>2.635860</td>\n",
       "    </tr>\n",
       "    <tr>\n",
       "      <th>17</th>\n",
       "      <td>17</td>\n",
       "      <td>0.90</td>\n",
       "      <td>0.240744</td>\n",
       "      <td>0.065146</td>\n",
       "      <td>1.506221</td>\n",
       "    </tr>\n",
       "    <tr>\n",
       "      <th>18</th>\n",
       "      <td>18</td>\n",
       "      <td>0.95</td>\n",
       "      <td>0.259914</td>\n",
       "      <td>0.043751</td>\n",
       "      <td>0.922346</td>\n",
       "    </tr>\n",
       "    <tr>\n",
       "      <th>19</th>\n",
       "      <td>19</td>\n",
       "      <td>1.00</td>\n",
       "      <td>0.243334</td>\n",
       "      <td>0.055840</td>\n",
       "      <td>2.146704</td>\n",
       "    </tr>\n",
       "    <tr>\n",
       "      <th>20</th>\n",
       "      <td>20</td>\n",
       "      <td>1.05</td>\n",
       "      <td>0.254042</td>\n",
       "      <td>0.267493</td>\n",
       "      <td>3.286843</td>\n",
       "    </tr>\n",
       "    <tr>\n",
       "      <th>21</th>\n",
       "      <td>21</td>\n",
       "      <td>1.10</td>\n",
       "      <td>0.272693</td>\n",
       "      <td>0.450843</td>\n",
       "      <td>3.260459</td>\n",
       "    </tr>\n",
       "    <tr>\n",
       "      <th>22</th>\n",
       "      <td>22</td>\n",
       "      <td>1.15</td>\n",
       "      <td>0.300843</td>\n",
       "      <td>0.610399</td>\n",
       "      <td>2.744438</td>\n",
       "    </tr>\n",
       "    <tr>\n",
       "      <th>23</th>\n",
       "      <td>23</td>\n",
       "      <td>1.20</td>\n",
       "      <td>0.335211</td>\n",
       "      <td>0.726491</td>\n",
       "      <td>2.082901</td>\n",
       "    </tr>\n",
       "    <tr>\n",
       "      <th>24</th>\n",
       "      <td>24</td>\n",
       "      <td>1.25</td>\n",
       "      <td>0.374586</td>\n",
       "      <td>0.814472</td>\n",
       "      <td>1.499878</td>\n",
       "    </tr>\n",
       "    <tr>\n",
       "      <th>25</th>\n",
       "      <td>25</td>\n",
       "      <td>1.30</td>\n",
       "      <td>0.417761</td>\n",
       "      <td>0.874054</td>\n",
       "      <td>0.972610</td>\n",
       "    </tr>\n",
       "    <tr>\n",
       "      <th>26</th>\n",
       "      <td>26</td>\n",
       "      <td>1.35</td>\n",
       "      <td>0.462836</td>\n",
       "      <td>0.910417</td>\n",
       "      <td>0.487664</td>\n",
       "    </tr>\n",
       "    <tr>\n",
       "      <th>27</th>\n",
       "      <td>27</td>\n",
       "      <td>1.40</td>\n",
       "      <td>0.509810</td>\n",
       "      <td>0.922506</td>\n",
       "      <td>0.013859</td>\n",
       "    </tr>\n",
       "    <tr>\n",
       "      <th>28</th>\n",
       "      <td>28</td>\n",
       "      <td>1.45</td>\n",
       "      <td>0.556094</td>\n",
       "      <td>0.909553</td>\n",
       "      <td>-0.430684</td>\n",
       "    </tr>\n",
       "    <tr>\n",
       "      <th>29</th>\n",
       "      <td>29</td>\n",
       "      <td>1.50</td>\n",
       "      <td>0.600996</td>\n",
       "      <td>0.882977</td>\n",
       "      <td>-0.931727</td>\n",
       "    </tr>\n",
       "    <tr>\n",
       "      <th>...</th>\n",
       "      <td>...</td>\n",
       "      <td>...</td>\n",
       "      <td>...</td>\n",
       "      <td>...</td>\n",
       "      <td>...</td>\n",
       "    </tr>\n",
       "    <tr>\n",
       "      <th>1970</th>\n",
       "      <td>1970</td>\n",
       "      <td>98.55</td>\n",
       "      <td>0.508256</td>\n",
       "      <td>0.013816</td>\n",
       "      <td>0.033048</td>\n",
       "    </tr>\n",
       "    <tr>\n",
       "      <th>1971</th>\n",
       "      <td>1971</td>\n",
       "      <td>98.60</td>\n",
       "      <td>0.508947</td>\n",
       "      <td>0.015351</td>\n",
       "      <td>0.024786</td>\n",
       "    </tr>\n",
       "    <tr>\n",
       "      <th>1972</th>\n",
       "      <td>1972</td>\n",
       "      <td>98.65</td>\n",
       "      <td>0.509810</td>\n",
       "      <td>0.016502</td>\n",
       "      <td>0.014285</td>\n",
       "    </tr>\n",
       "    <tr>\n",
       "      <th>1973</th>\n",
       "      <td>1973</td>\n",
       "      <td>98.70</td>\n",
       "      <td>0.510674</td>\n",
       "      <td>0.016311</td>\n",
       "      <td>0.011886</td>\n",
       "    </tr>\n",
       "    <tr>\n",
       "      <th>1974</th>\n",
       "      <td>1974</td>\n",
       "      <td>98.75</td>\n",
       "      <td>0.511365</td>\n",
       "      <td>0.017366</td>\n",
       "      <td>0.014019</td>\n",
       "    </tr>\n",
       "    <tr>\n",
       "      <th>1975</th>\n",
       "      <td>1975</td>\n",
       "      <td>98.80</td>\n",
       "      <td>0.512401</td>\n",
       "      <td>0.018421</td>\n",
       "      <td>0.002505</td>\n",
       "    </tr>\n",
       "    <tr>\n",
       "      <th>1976</th>\n",
       "      <td>1976</td>\n",
       "      <td>98.85</td>\n",
       "      <td>0.513264</td>\n",
       "      <td>0.018229</td>\n",
       "      <td>-0.020468</td>\n",
       "    </tr>\n",
       "    <tr>\n",
       "      <th>1977</th>\n",
       "      <td>1977</td>\n",
       "      <td>98.90</td>\n",
       "      <td>0.514301</td>\n",
       "      <td>0.016407</td>\n",
       "      <td>-0.043442</td>\n",
       "    </tr>\n",
       "    <tr>\n",
       "      <th>1978</th>\n",
       "      <td>1978</td>\n",
       "      <td>98.95</td>\n",
       "      <td>0.514991</td>\n",
       "      <td>0.012953</td>\n",
       "      <td>-0.049198</td>\n",
       "    </tr>\n",
       "    <tr>\n",
       "      <th>1979</th>\n",
       "      <td>1979</td>\n",
       "      <td>99.00</td>\n",
       "      <td>0.515510</td>\n",
       "      <td>0.010842</td>\n",
       "      <td>-0.043122</td>\n",
       "    </tr>\n",
       "    <tr>\n",
       "      <th>1980</th>\n",
       "      <td>1980</td>\n",
       "      <td>99.05</td>\n",
       "      <td>0.516028</td>\n",
       "      <td>0.009403</td>\n",
       "      <td>-0.048772</td>\n",
       "    </tr>\n",
       "    <tr>\n",
       "      <th>1981</th>\n",
       "      <td>1981</td>\n",
       "      <td>99.10</td>\n",
       "      <td>0.516546</td>\n",
       "      <td>0.006428</td>\n",
       "      <td>-0.062204</td>\n",
       "    </tr>\n",
       "    <tr>\n",
       "      <th>1982</th>\n",
       "      <td>1982</td>\n",
       "      <td>99.15</td>\n",
       "      <td>0.516718</td>\n",
       "      <td>0.002495</td>\n",
       "      <td>-0.064603</td>\n",
       "    </tr>\n",
       "    <tr>\n",
       "      <th>1983</th>\n",
       "      <td>1983</td>\n",
       "      <td>99.20</td>\n",
       "      <td>0.516718</td>\n",
       "      <td>-0.000288</td>\n",
       "      <td>-0.061138</td>\n",
       "    </tr>\n",
       "    <tr>\n",
       "      <th>1984</th>\n",
       "      <td>1984</td>\n",
       "      <td>99.25</td>\n",
       "      <td>0.516718</td>\n",
       "      <td>-0.003454</td>\n",
       "      <td>-0.058473</td>\n",
       "    </tr>\n",
       "    <tr>\n",
       "      <th>1985</th>\n",
       "      <td>1985</td>\n",
       "      <td>99.30</td>\n",
       "      <td>0.516373</td>\n",
       "      <td>-0.006428</td>\n",
       "      <td>-0.050691</td>\n",
       "    </tr>\n",
       "    <tr>\n",
       "      <th>1986</th>\n",
       "      <td>1986</td>\n",
       "      <td>99.35</td>\n",
       "      <td>0.516028</td>\n",
       "      <td>-0.008539</td>\n",
       "      <td>-0.043388</td>\n",
       "    </tr>\n",
       "    <tr>\n",
       "      <th>1987</th>\n",
       "      <td>1987</td>\n",
       "      <td>99.40</td>\n",
       "      <td>0.515510</td>\n",
       "      <td>-0.010458</td>\n",
       "      <td>-0.041416</td>\n",
       "    </tr>\n",
       "    <tr>\n",
       "      <th>1988</th>\n",
       "      <td>1988</td>\n",
       "      <td>99.45</td>\n",
       "      <td>0.514991</td>\n",
       "      <td>-0.012473</td>\n",
       "      <td>-0.042589</td>\n",
       "    </tr>\n",
       "    <tr>\n",
       "      <th>1989</th>\n",
       "      <td>1989</td>\n",
       "      <td>99.50</td>\n",
       "      <td>0.514301</td>\n",
       "      <td>-0.015063</td>\n",
       "      <td>-0.037152</td>\n",
       "    </tr>\n",
       "    <tr>\n",
       "      <th>1990</th>\n",
       "      <td>1990</td>\n",
       "      <td>99.55</td>\n",
       "      <td>0.513437</td>\n",
       "      <td>-0.016694</td>\n",
       "      <td>-0.022334</td>\n",
       "    </tr>\n",
       "    <tr>\n",
       "      <th>1991</th>\n",
       "      <td>1991</td>\n",
       "      <td>99.60</td>\n",
       "      <td>0.512574</td>\n",
       "      <td>-0.017174</td>\n",
       "      <td>-0.009168</td>\n",
       "    </tr>\n",
       "    <tr>\n",
       "      <th>1992</th>\n",
       "      <td>1992</td>\n",
       "      <td>99.65</td>\n",
       "      <td>0.511710</td>\n",
       "      <td>-0.017270</td>\n",
       "      <td>-0.002079</td>\n",
       "    </tr>\n",
       "    <tr>\n",
       "      <th>1993</th>\n",
       "      <td>1993</td>\n",
       "      <td>99.70</td>\n",
       "      <td>0.510847</td>\n",
       "      <td>-0.017270</td>\n",
       "      <td>0.002985</td>\n",
       "    </tr>\n",
       "    <tr>\n",
       "      <th>1994</th>\n",
       "      <td>1994</td>\n",
       "      <td>99.75</td>\n",
       "      <td>0.509983</td>\n",
       "      <td>-0.017174</td>\n",
       "      <td>0.013091</td>\n",
       "    </tr>\n",
       "    <tr>\n",
       "      <th>1995</th>\n",
       "      <td>1995</td>\n",
       "      <td>99.80</td>\n",
       "      <td>0.509120</td>\n",
       "      <td>-0.016502</td>\n",
       "      <td>0.033143</td>\n",
       "    </tr>\n",
       "    <tr>\n",
       "      <th>1996</th>\n",
       "      <td>1996</td>\n",
       "      <td>99.85</td>\n",
       "      <td>0.508256</td>\n",
       "      <td>-0.014200</td>\n",
       "      <td>0.056788</td>\n",
       "    </tr>\n",
       "    <tr>\n",
       "      <th>1997</th>\n",
       "      <td>1997</td>\n",
       "      <td>99.90</td>\n",
       "      <td>0.507565</td>\n",
       "      <td>-0.009729</td>\n",
       "      <td>0.059709</td>\n",
       "    </tr>\n",
       "    <tr>\n",
       "      <th>1998</th>\n",
       "      <td>1998</td>\n",
       "      <td>99.95</td>\n",
       "      <td>0.507393</td>\n",
       "      <td>-0.007004</td>\n",
       "      <td>0.041395</td>\n",
       "    </tr>\n",
       "    <tr>\n",
       "      <th>1999</th>\n",
       "      <td>1999</td>\n",
       "      <td>100.00</td>\n",
       "      <td>0.507047</td>\n",
       "      <td>-0.006524</td>\n",
       "      <td>0.024007</td>\n",
       "    </tr>\n",
       "  </tbody>\n",
       "</table>\n",
       "<p>2000 rows × 5 columns</p>\n",
       "</div>"
      ],
      "text/plain": [
       "      Unnamed: 0    time         x         v         a\n",
       "0              0    0.05  0.823606 -0.488357 -1.354608\n",
       "1              1    0.10  0.800983 -0.545540 -1.631983\n",
       "2              2    0.15  0.773178 -0.635018 -1.964846\n",
       "3              3    0.20  0.738983 -0.752876 -2.068967\n",
       "4              4    0.25  0.697190 -0.861389 -1.766721\n",
       "5              5    0.30  0.652115 -0.948027 -1.089897\n",
       "6              6    0.35  0.598924 -0.967696 -0.427432\n",
       "7              7    0.40  0.555058 -0.971246 -0.097224\n",
       "8              8    0.45  0.502902 -0.984966  0.328290\n",
       "9              9    0.50  0.453510 -0.942558  0.823523\n",
       "10            10    0.55  0.408954 -0.897368  1.269292\n",
       "11            11    0.60  0.363015 -0.826274  1.896982\n",
       "12            12    0.65  0.323985 -0.708646  2.521900\n",
       "13            13    0.70  0.291000 -0.562043  2.917297\n",
       "14            14    0.75  0.267858 -0.410450  3.138503\n",
       "15            15    0.80  0.249379 -0.241972  3.101084\n",
       "16            16    0.85  0.243334 -0.082896  2.635860\n",
       "17            17    0.90  0.240744  0.065146  1.506221\n",
       "18            18    0.95  0.259914  0.043751  0.922346\n",
       "19            19    1.00  0.243334  0.055840  2.146704\n",
       "20            20    1.05  0.254042  0.267493  3.286843\n",
       "21            21    1.10  0.272693  0.450843  3.260459\n",
       "22            22    1.15  0.300843  0.610399  2.744438\n",
       "23            23    1.20  0.335211  0.726491  2.082901\n",
       "24            24    1.25  0.374586  0.814472  1.499878\n",
       "25            25    1.30  0.417761  0.874054  0.972610\n",
       "26            26    1.35  0.462836  0.910417  0.487664\n",
       "27            27    1.40  0.509810  0.922506  0.013859\n",
       "28            28    1.45  0.556094  0.909553 -0.430684\n",
       "29            29    1.50  0.600996  0.882977 -0.931727\n",
       "...          ...     ...       ...       ...       ...\n",
       "1970        1970   98.55  0.508256  0.013816  0.033048\n",
       "1971        1971   98.60  0.508947  0.015351  0.024786\n",
       "1972        1972   98.65  0.509810  0.016502  0.014285\n",
       "1973        1973   98.70  0.510674  0.016311  0.011886\n",
       "1974        1974   98.75  0.511365  0.017366  0.014019\n",
       "1975        1975   98.80  0.512401  0.018421  0.002505\n",
       "1976        1976   98.85  0.513264  0.018229 -0.020468\n",
       "1977        1977   98.90  0.514301  0.016407 -0.043442\n",
       "1978        1978   98.95  0.514991  0.012953 -0.049198\n",
       "1979        1979   99.00  0.515510  0.010842 -0.043122\n",
       "1980        1980   99.05  0.516028  0.009403 -0.048772\n",
       "1981        1981   99.10  0.516546  0.006428 -0.062204\n",
       "1982        1982   99.15  0.516718  0.002495 -0.064603\n",
       "1983        1983   99.20  0.516718 -0.000288 -0.061138\n",
       "1984        1984   99.25  0.516718 -0.003454 -0.058473\n",
       "1985        1985   99.30  0.516373 -0.006428 -0.050691\n",
       "1986        1986   99.35  0.516028 -0.008539 -0.043388\n",
       "1987        1987   99.40  0.515510 -0.010458 -0.041416\n",
       "1988        1988   99.45  0.514991 -0.012473 -0.042589\n",
       "1989        1989   99.50  0.514301 -0.015063 -0.037152\n",
       "1990        1990   99.55  0.513437 -0.016694 -0.022334\n",
       "1991        1991   99.60  0.512574 -0.017174 -0.009168\n",
       "1992        1992   99.65  0.511710 -0.017270 -0.002079\n",
       "1993        1993   99.70  0.510847 -0.017270  0.002985\n",
       "1994        1994   99.75  0.509983 -0.017174  0.013091\n",
       "1995        1995   99.80  0.509120 -0.016502  0.033143\n",
       "1996        1996   99.85  0.508256 -0.014200  0.056788\n",
       "1997        1997   99.90  0.507565 -0.009729  0.059709\n",
       "1998        1998   99.95  0.507393 -0.007004  0.041395\n",
       "1999        1999  100.00  0.507047 -0.006524  0.024007\n",
       "\n",
       "[2000 rows x 5 columns]"
      ]
     },
     "execution_count": 3,
     "metadata": {},
     "output_type": "execute_result"
    }
   ],
   "source": [
    "data"
   ]
  },
  {
   "cell_type": "markdown",
   "metadata": {
    "collapsed": true
   },
   "source": [
    "data['time'] = data['Latest: Time (s)']\n",
    "data['x'] = data['Latest: Position (m)']\n",
    "data['v'] = data['Latest: Velocity (m/s)']\n",
    "data['a'] = data['Latest: Acceleration (m/s²)']"
   ]
  },
  {
   "cell_type": "code",
   "execution_count": 4,
   "metadata": {},
   "outputs": [
    {
     "name": "stderr",
     "output_type": "stream",
     "text": [
      "/home/kreidy/anaconda3/lib/python3.6/site-packages/matplotlib/cbook/deprecation.py:106: MatplotlibDeprecationWarning: Adding an axes using the same arguments as a previous axes currently reuses the earlier instance.  In a future version, a new instance will always be created and returned.  Meanwhile, this warning can be suppressed, and the future behavior ensured, by passing a unique label to each axes instance.\n",
      "  warnings.warn(message, mplDeprecation, stacklevel=1)\n"
     ]
    },
    {
     "data": {
      "image/png": "[encoded data removed]",
      "text/plain": [
       "<matplotlib.figure.Figure at 0x7f9731791eb8>"
      ]
     },
     "metadata": {},
     "output_type": "display_data"
    }
   ],
   "source": [
    "ax = plt.subplot()\n",
    "fig = plt.subplot(111)\n",
    "ax.set_xlabel('time (s)')\n",
    "ax.set_ylabel('position (m)')\n",
    "ax.set_title('Position vs time of pendulum')\n",
    "ax.scatter(data['time'], data['x'])\n",
    "ax.axhline(np.average(data['x']), color=(1,0,0))\n",
    "ax.figure.savefig('lab1_x-t_scatterplot')"
   ]
  },
  {
   "cell_type": "code",
   "execution_count": 5,
   "metadata": {},
   "outputs": [
    {
     "name": "stderr",
     "output_type": "stream",
     "text": [
      "/home/kreidy/anaconda3/lib/python3.6/site-packages/matplotlib/cbook/deprecation.py:106: MatplotlibDeprecationWarning: Adding an axes using the same arguments as a previous axes currently reuses the earlier instance.  In a future version, a new instance will always be created and returned.  Meanwhile, this warning can be suppressed, and the future behavior ensured, by passing a unique label to each axes instance.\n",
      "  warnings.warn(message, mplDeprecation, stacklevel=1)\n"
     ]
    },
    {
     "data": {
      "image/png": "[encoded data removed]",
      "text/plain": [
       "<matplotlib.figure.Figure at 0x7f9729935048>"
      ]
     },
     "metadata": {},
     "output_type": "display_data"
    }
   ],
   "source": [
    "ax = plt.subplot()\n",
    "fig = plt.subplot(111)\n",
    "ax.set_xlabel('time (s)')\n",
    "ax.set_ylabel('position (m)')\n",
    "ax.set_title('Position vs time of pendulum')\n",
    "ax.plot(data['time'], data['x'])\n",
    "ax.axhline(np.average(data['x']), color=(1,0,0))\n",
    "ax.figure.savefig('lab1_x-t_lineplot')"
   ]
  },
  {
   "cell_type": "code",
   "execution_count": 6,
   "metadata": {
    "collapsed": true
   },
   "outputs": [],
   "source": [
    "midp = np.average(data['x'])"
   ]
  },
  {
   "cell_type": "code",
   "execution_count": 7,
   "metadata": {},
   "outputs": [
    {
     "data": {
      "text/plain": [
       "0.51180992059999997"
      ]
     },
     "execution_count": 7,
     "metadata": {},
     "output_type": "execute_result"
    }
   ],
   "source": [
    "midp"
   ]
  },
  {
   "cell_type": "code",
   "execution_count": 8,
   "metadata": {},
   "outputs": [
    {
     "data": {
      "text/plain": [
       "0.31179637940000005"
      ]
     },
     "execution_count": 8,
     "metadata": {},
     "output_type": "execute_result"
    }
   ],
   "source": [
    "data['x'][0]-midp"
   ]
  },
  {
   "cell_type": "code",
   "execution_count": 40,
   "metadata": {
    "collapsed": true
   },
   "outputs": [],
   "source": [
    "import scipy"
   ]
  },
  {
   "cell_type": "code",
   "execution_count": 46,
   "metadata": {},
   "outputs": [],
   "source": [
    "interpx = scipy.interp(data['time'], data['time'], data['x'])"
   ]
  },
  {
   "cell_type": "code",
   "execution_count": 94,
   "metadata": {
    "scrolled": true
   },
   "outputs": [
    {
     "name": "stderr",
     "output_type": "stream",
     "text": [
      "/home/kreidy/anaconda3/lib/python3.6/site-packages/matplotlib/cbook/deprecation.py:106: MatplotlibDeprecationWarning: Adding an axes using the same arguments as a previous axes currently reuses the earlier instance.  In a future version, a new instance will always be created and returned.  Meanwhile, this warning can be suppressed, and the future behavior ensured, by passing a unique label to each axes instance.\n",
      "  warnings.warn(message, mplDeprecation, stacklevel=1)\n"
     ]
    },
    {
     "data": {
      "image/png": "[encoded data removed]",
      "text/plain": [
       "<matplotlib.figure.Figure at 0x7f9728639160>"
      ]
     },
     "metadata": {},
     "output_type": "display_data"
    }
   ],
   "source": [
    "ax = plt.subplot()\n",
    "fig = plt.subplot(111)\n",
    "ax.set_xlabel('time (s)')\n",
    "ax.set_ylabel('position (m)')\n",
    "ax.set_title('Position vs time of pendulum')\n",
    "ax.plot(data['time'], interpx)\n",
    "ax.axhline(np.average(data['x']), color=(1,0,0))\n",
    "ax.figure.savefig('lab1_x-t_scipyinterpolatedlineplot')"
   ]
  },
  {
   "cell_type": "code",
   "execution_count": 53,
   "metadata": {
    "collapsed": true
   },
   "outputs": [],
   "source": [
    "import peakutils as pu"
   ]
  },
  {
   "cell_type": "code",
   "execution_count": 88,
   "metadata": {},
   "outputs": [],
   "source": [
    "maxes = pu.indexes(data['x'], thres=.5)\n",
    "mins = pu.indexes(-data['x'], thres=.5)"
   ]
  },
  {
   "cell_type": "code",
   "execution_count": 95,
   "metadata": {},
   "outputs": [
    {
     "name": "stderr",
     "output_type": "stream",
     "text": [
      "/home/kreidy/anaconda3/lib/python3.6/site-packages/matplotlib/cbook/deprecation.py:106: MatplotlibDeprecationWarning: Adding an axes using the same arguments as a previous axes currently reuses the earlier instance.  In a future version, a new instance will always be created and returned.  Meanwhile, this warning can be suppressed, and the future behavior ensured, by passing a unique label to each axes instance.\n",
      "  warnings.warn(message, mplDeprecation, stacklevel=1)\n"
     ]
    },
    {
     "data": {
      "image/png": "[encoded data removed]",
      "text/plain": [
       "<matplotlib.figure.Figure at 0x7f97286305f8>"
      ]
     },
     "metadata": {},
     "output_type": "display_data"
    }
   ],
   "source": [
    "ax = plt.subplot()\n",
    "fig = plt.subplot(111)\n",
    "ax.set_xlabel('time (s)')\n",
    "ax.set_ylabel('position (m)')\n",
    "ax.set_title('Position vs time of pendulum')\n",
    "ax.plot(data['time'], data['x'])\n",
    "ax.scatter(data['time'][maxes], data['x'][maxes], color=(1,.5,0))\n",
    "ax.scatter(data['time'][mins], data['x'][mins], color=(0,1,0))\n",
    "ax.axhline(np.average(data['x']), color=(1,0,0))\n",
    "ax.figure.savefig('lab1_x-t_pupeakslineplot')"
   ]
  },
  {
   "cell_type": "code",
   "execution_count": 119,
   "metadata": {},
   "outputs": [
    {
     "data": {
      "text/plain": [
       "0.28364627939999998"
      ]
     },
     "execution_count": 119,
     "metadata": {},
     "output_type": "execute_result"
    }
   ],
   "source": [
    "A"
   ]
  },
  {
   "cell_type": "code",
   "execution_count": 160,
   "metadata": {},
   "outputs": [],
   "source": [
    "def getrmsd(pos, data=data):\n",
    "    return np.sqrt(((pos-data['x'])**2).mean())"
   ]
  },
  {
   "cell_type": "code",
   "execution_count": 317,
   "metadata": {},
   "outputs": [],
   "source": [
    "def getgamma():\n",
    "    y = 0\n",
    "    t = data['time']\n",
    "    phi = midp\n",
    "    dy = .01\n",
    "    goody = y\n",
    "    while dy >= .001:\n",
    "        currentpos = A*np.e**(-goody*t)*np.cos(w*t+theta)+phi\n",
    "        rmsd = getrmsd(currentpos)\n",
    "        for i in range(0,10):\n",
    "            dummyy = y + i*dy\n",
    "            newpos = A*np.e**(-dummyy*t)*np.cos(w*t+theta)+phi\n",
    "            temprmsd = getrmsd(newpos)\n",
    "#             print(dummyy, temprmsd)\n",
    "            if temprmsd < rmsd:\n",
    "                rmsd = temprmsd\n",
    "                goody = dummyy\n",
    "        y = goody\n",
    "        dy /= 10\n",
    "    return y"
   ]
  },
  {
   "cell_type": "code",
   "execution_count": 232,
   "metadata": {},
   "outputs": [],
   "source": [
    "y = getgamma()"
   ]
  },
  {
   "cell_type": "code",
   "execution_count": 366,
   "metadata": {
    "collapsed": true
   },
   "outputs": [],
   "source": [
    "def getomega():\n",
    "    w = 0\n",
    "    t = data['time']\n",
    "    phi = midp\n",
    "    dw = 1\n",
    "    goodw = w\n",
    "    while dw >= .01:\n",
    "        currentpos = A*np.e**(-y*t)*np.cos(goodw*t+theta)+phi\n",
    "        rmsd = getrmsd(currentpos)\n",
    "        for i in range(0,10):\n",
    "            dummyw = w + i*dw\n",
    "            newpos = A*np.e**(-y*t)*np.cos(dummyw*t+theta)+phi\n",
    "            temprmsd = getrmsd(newpos)\n",
    "            if temprmsd < rmsd:\n",
    "                rmsd = temprmsd\n",
    "                goodw = dummyw\n",
    "        w = goodw\n",
    "        dw /= 10\n",
    "    return w"
   ]
  },
  {
   "cell_type": "code",
   "execution_count": null,
   "metadata": {
    "collapsed": true
   },
   "outputs": [],
   "source": [
    "w = getomega()"
   ]
  },
  {
   "cell_type": "code",
   "execution_count": 492,
   "metadata": {
    "collapsed": true
   },
   "outputs": [],
   "source": [
    "def gettheta():\n",
    "    t = data['time']\n",
    "    th = 0\n",
    "    phi = midp\n",
    "    dth = np.pi/24\n",
    "    goodth = th\n",
    "    while dth >= .01:\n",
    "        currentpos = A*np.e**(-y*t)*np.cos(w*t+goodth)+phi\n",
    "        rmsd = getrmsd(currentpos)\n",
    "        for i in range(0,12):\n",
    "            dummyth = th + i*dth\n",
    "            newpos = A*np.e**(-y*t)*np.cos(w*t+dummyth)+phi\n",
    "            temprmsd = getrmsd(newpos)\n",
    "            if temprmsd < rmsd:\n",
    "                rmsd = temprmsd\n",
    "                goodth = dummyth\n",
    "        th = goodth\n",
    "        dth /= 10\n",
    "    return th"
   ]
  },
  {
   "cell_type": "code",
   "execution_count": 493,
   "metadata": {},
   "outputs": [
    {
     "data": {
      "text/plain": [
       "0"
      ]
     },
     "execution_count": 493,
     "metadata": {},
     "output_type": "execute_result"
    }
   ],
   "source": [
    "gettheta()"
   ]
  },
  {
   "cell_type": "code",
   "execution_count": 486,
   "metadata": {},
   "outputs": [
    {
     "data": {
      "text/plain": [
       "0.2617993877991494"
      ]
     },
     "execution_count": 486,
     "metadata": {},
     "output_type": "execute_result"
    }
   ],
   "source": [
    "np.pi/12"
   ]
  },
  {
   "cell_type": "code",
   "execution_count": null,
   "metadata": {},
   "outputs": [],
   "source": [
    "print(y, w, theta)"
   ]
  },
  {
   "cell_type": "code",
   "execution_count": 494,
   "metadata": {
    "collapsed": true
   },
   "outputs": [],
   "source": [
    "def realA():\n",
    "    A = max(max(abs(data['x'][maxes]-midp)), max(abs(data['x'][mins]-midp)))\n",
    "    t = data['time']\n",
    "    phi = midp\n",
    "    dA = 1\n",
    "    goodA = A\n",
    "    while dA >= .001:\n",
    "        currentpos = goodA*np.e**(-y*t)*np.cos(w*t+theta)+phi\n",
    "        rmsd = getrmsd(currentpos)\n",
    "        for i in range(0,10):\n",
    "            dummyA = A + i*dA\n",
    "            newpos = dummyA*np.e**(-y*t)*np.cos(w*t+theta)+phi\n",
    "            temprmsd = getrmsd(newpos)\n",
    "            if temprmsd < rmsd:\n",
    "                rmsd = temprmsd\n",
    "                goodA = dummyA\n",
    "        A = goodA\n",
    "        dA /= 10\n",
    "    return A"
   ]
  },
  {
   "cell_type": "code",
   "execution_count": 495,
   "metadata": {
    "collapsed": true
   },
   "outputs": [],
   "source": [
    "def getvars(cutoff, A=A, y=y, w=w, theta=theta):\n",
    "    t = data['time']\n",
    "    phi = midp\n",
    "    A = max(max(abs(data['x'][maxes]-midp)), max(abs(data['x'][mins]-midp)))\n",
    "    y = 0\n",
    "#     w = 0\n",
    "    pos = A*np.e**(-y*t)*np.cos(w*t+theta)+phi\n",
    "    rmsd = getrmsd(pos)\n",
    "    while rmsd > cutoff:\n",
    "        theta = gettheta()\n",
    "        w = getomega()\n",
    "        y = getgamma()\n",
    "        A = realA()\n",
    "        pos = A*np.e**(-y*t)*np.cos(w*t+theta)+phi\n",
    "        tempval = getrmsd(pos)\n",
    "        if tempval < rmsd:\n",
    "            rmsd = tempval\n",
    "    return A, y, w, theta, rmsd"
   ]
  },
  {
   "cell_type": "code",
   "execution_count": 511,
   "metadata": {
    "scrolled": true
   },
   "outputs": [
    {
     "name": "stdout",
     "output_type": "stream",
     "text": [
      "co 0.016666666666666666 amp 0.3076462794 gamma 0.054000000000000006 omega 3.3 theta 0 rmsd 0.014715774933\n"
     ]
    }
   ],
   "source": [
    "values = []\n",
    "i = 60\n",
    "A, y, w, theta, rmsd = getvars(1/i)\n",
    "print('co', 1/i, 'amp', A, 'gamma', y, 'omega', w, 'theta', theta, 'rmsd', rmsd)\n",
    "values.append([1/i, A, y, w, theta, rmsd])"
   ]
  },
  {
   "cell_type": "code",
   "execution_count": 516,
   "metadata": {
    "scrolled": false
   },
   "outputs": [
    {
     "name": "stdout",
     "output_type": "stream",
     "text": [
      "0.014715774933\n"
     ]
    },
    {
     "name": "stderr",
     "output_type": "stream",
     "text": [
      "/home/kreidy/anaconda3/lib/python3.6/site-packages/matplotlib/cbook/deprecation.py:106: MatplotlibDeprecationWarning: Adding an axes using the same arguments as a previous axes currently reuses the earlier instance.  In a future version, a new instance will always be created and returned.  Meanwhile, this warning can be suppressed, and the future behavior ensured, by passing a unique label to each axes instance.\n",
      "  warnings.warn(message, mplDeprecation, stacklevel=1)\n"
     ]
    },
    {
     "data": {
      "image/png": "[encoded data removed]",
      "text/plain": [
       "<matplotlib.figure.Figure at 0x7f972714e6a0>"
      ]
     },
     "metadata": {},
     "output_type": "display_data"
    }
   ],
   "source": [
    "t = data['time']\n",
    "phi = midp\n",
    "# y = .05\n",
    "pos = A*np.e**(-y*t)*np.cos(w*t+theta)+phi\n",
    "print(getrmsd(pos))\n",
    "ax = plt.subplot()\n",
    "fig = plt.subplot(111)\n",
    "ax.set_xlabel('time (s)')\n",
    "ax.set_ylabel('position (m)')\n",
    "ax.set_title('Position vs time of pendulum')\n",
    "ax.plot(data['time'], interpx)\n",
    "ax.plot(t, pos, color=(1,0,1))\n",
    "ax.axhline(np.average(data['x']), color=(1,0,0))\n",
    "# ax.set_xlim(0, 30)\n",
    "# ax.set_ylim(.4, .6)\n",
    "ax.figure.savefig('lab1_x-t_estimated')"
   ]
  },
  {
   "cell_type": "code",
   "execution_count": 443,
   "metadata": {},
   "outputs": [
    {
     "data": {
      "text/plain": [
       "0.05"
      ]
     },
     "execution_count": 443,
     "metadata": {},
     "output_type": "execute_result"
    }
   ],
   "source": [
    "y"
   ]
  },
  {
   "cell_type": "code",
   "execution_count": 434,
   "metadata": {},
   "outputs": [],
   "source": [
    "angfreq = np.sqrt(9.807/height)"
   ]
  },
  {
   "cell_type": "code",
   "execution_count": 435,
   "metadata": {},
   "outputs": [],
   "source": [
    "w = angfreq"
   ]
  },
  {
   "cell_type": "code",
   "execution_count": 380,
   "metadata": {},
   "outputs": [
    {
     "data": {
      "text/plain": [
       "0.03726656499077835"
      ]
     },
     "execution_count": 380,
     "metadata": {},
     "output_type": "execute_result"
    }
   ],
   "source": [
    "rmsd"
   ]
  },
  {
   "cell_type": "code",
   "execution_count": 400,
   "metadata": {},
   "outputs": [],
   "source": [
    "periods = []\n",
    "for i in range(len(maxes)-1):\n",
    "    periods.append(data['time'][i+1]-data['time'][i])"
   ]
  },
  {
   "cell_type": "code",
   "execution_count": 402,
   "metadata": {},
   "outputs": [
    {
     "data": {
      "text/plain": [
       "0.049999999999999996"
      ]
     },
     "execution_count": 402,
     "metadata": {},
     "output_type": "execute_result"
    }
   ],
   "source": [
    "np.average(periods)"
   ]
  },
  {
   "cell_type": "code",
   "execution_count": 332,
   "metadata": {},
   "outputs": [
    {
     "data": {
      "text/plain": [
       "7.4346613509906198e-17"
      ]
     },
     "execution_count": 332,
     "metadata": {},
     "output_type": "execute_result"
    }
   ],
   "source": [
    "np.sqrt(((periods-np.average(periods))**2).mean())"
   ]
  },
  {
   "cell_type": "code",
   "execution_count": 333,
   "metadata": {
    "collapsed": true
   },
   "outputs": [],
   "source": [
    "T = np.average(periods)"
   ]
  },
  {
   "cell_type": "code",
   "execution_count": 360,
   "metadata": {
    "collapsed": true
   },
   "outputs": [],
   "source": [
    "w = 2*np.pi/T"
   ]
  },
  {
   "cell_type": "code",
   "execution_count": 363,
   "metadata": {},
   "outputs": [
    {
     "data": {
      "text/plain": [
       "125.66370614359174"
      ]
     },
     "execution_count": 363,
     "metadata": {},
     "output_type": "execute_result"
    }
   ],
   "source": [
    "w"
   ]
  },
  {
   "cell_type": "code",
   "execution_count": 364,
   "metadata": {},
   "outputs": [
    {
     "data": {
      "text/plain": [
       "0.049999999999999996"
      ]
     },
     "execution_count": 364,
     "metadata": {},
     "output_type": "execute_result"
    }
   ],
   "source": [
    "T"
   ]
  },
  {
   "cell_type": "code",
   "execution_count": null,
   "metadata": {
    "collapsed": true
   },
   "outputs": [],
   "source": []
  }
 ],
 "metadata": {
  "kernelspec": {
   "display_name": "Python 3",
   "language": "python",
   "name": "python3"
  },
  "language_info": {
   "codemirror_mode": {
    "name": "ipython",
    "version": 3
   },
   "file_extension": ".py",
   "mimetype": "text/x-python",
   "name": "python",
   "nbconvert_exporter": "python",
   "pygments_lexer": "ipython3",
   "version": "3.6.3"
  }
 },
 "nbformat": 4,
 "nbformat_minor": 2
}
