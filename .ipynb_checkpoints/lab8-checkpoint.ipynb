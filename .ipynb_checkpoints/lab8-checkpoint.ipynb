{
 "cells": [
  {
   "cell_type": "code",
   "execution_count": 1,
   "metadata": {
    "collapsed": true
   },
   "outputs": [],
   "source": [
    "import numpy as np\n",
    "import pandas as pd\n",
    "import scipy\n",
    "import matplotlib.pyplot as plt\n",
    "%matplotlib inline"
   ]
  },
  {
   "cell_type": "markdown",
   "metadata": {},
   "source": [
    "Temperature = 23 $^\\circ$ C"
   ]
  },
  {
   "cell_type": "code",
   "execution_count": 2,
   "metadata": {
    "collapsed": true
   },
   "outputs": [],
   "source": [
    "'''red double'''\n",
    "d = .5 #mm\n",
    "slitwidth = .04 #mm\n",
    "dlaserobject = 10.0 # cm\n",
    "\n",
    "rred = 117\n",
    "# 16 pictures\n",
    "ivals1 = [23.1, 21.2, 19.4, 17.3, 14.7, 11.5, 9.5, 7.6, 5.7, 3.7]\n",
    "brightest1 = 14.7"
   ]
  },
  {
   "cell_type": "code",
   "execution_count": 4,
   "metadata": {},
   "outputs": [],
   "source": [
    "'''green double'''\n",
    "d = .5 #mm\n",
    "slitwidth = .04 #mm\n",
    "dlaserobject = 10.0 # cm\n",
    "\n",
    "rgreen1 = 117\n",
    "# 16 pictures\n",
    "ivalsgreen1 = [29.7, 28.2, 26.5, 23.9, 23.2, 21.5, 20, 18.4, 16.7, 14.4, 12.1, 10.4, 8.8, 7.2, 5.5, 4.0, 2.5, .8]\n",
    "brightestgreen1 = 14.4"
   ]
  },
  {
   "cell_type": "code",
   "execution_count": null,
   "metadata": {
    "collapsed": true
   },
   "outputs": [],
   "source": []
  },
  {
   "cell_type": "code",
   "execution_count": 5,
   "metadata": {
    "collapsed": true
   },
   "outputs": [],
   "source": [
    "d = .25 #mm\n",
    "slitwidth = .08 #mm\n",
    "dlaserobject = 10.0 # cm\n",
    "\n",
    "rgreen2 = 117\n",
    "# 16 pictures\n",
    "ivalsgreen2 = [29.4, 28.6, 27.8, 26.9, 26.2, 25.5, 24.7, 23.8, 23.1, 22.3, 21.5, 20.7, 20, 19.3, 18.5, 17.7, 16.9, 16.1, 15.4, 14.1, 13, 12.2, 11.4, 10.6, 9.9, 9, 8.3, 7.4, 6.8, 6, 5.2, 4.4, 3.6, 2.8, 2.2, 1.3, .4]\n",
    "brightestgreen2 = 14.1"
   ]
  },
  {
   "cell_type": "code",
   "execution_count": 7,
   "metadata": {
    "collapsed": true
   },
   "outputs": [],
   "source": [
    "d = .5 #mm\n",
    "slitwidth = .08 #mm\n",
    "dlaserobject = 10.0 # cm\n",
    "\n",
    "rgreen3 = 117\n",
    "# 16 pictures\n",
    "ivalsgreen3 = [29.7, 28.9, 28.2, 27.3, 26.6, 25.8, 25.1, 24.3, 23.5, 22.8, 22, 21.2, 20.5, 19.8, 18.9, 18.1, 17.3, 16.6, 15.8, 14.7, 13.6, 12.8, 12, 11.3, 10.5, 9.7, 9, 8.2, 7.4, 6.6, 5.8, 5.1, 4.3, 3.5, 2.6, 1.9, 1.1, .4]\n",
    "brightestgreen3 = 14.7"
   ]
  },
  {
   "cell_type": "code",
   "execution_count": 9,
   "metadata": {
    "collapsed": true
   },
   "outputs": [],
   "source": [
    "'''green single'''\n",
    "slitwidth = .04 #mm\n",
    "dlaserobject = 10.0 # cm\n",
    "\n",
    "rgreen4 = 117\n",
    "# 16 pictures\n",
    "ivalsgreen4 = [28.8, 27.3, 25.6, 24.1, 22.5, 20.9, 19.4, 17.8, 15.5, 13.2, 11.6, 10, 8.4, 6.8, 5.2, 3.6, 2.2, .5]\n",
    "brightestgreen4 = 15.5"
   ]
  },
  {
   "cell_type": "code",
   "execution_count": 10,
   "metadata": {
    "collapsed": true
   },
   "outputs": [],
   "source": [
    "'''green circular'''\n",
    "slitwidth = .2 #mm\n",
    "dlaserobject = 10.0 # cm\n",
    "\n",
    "rgreen4 = 117\n",
    "# 16 pictures\n",
    "ivalsgreen4 = [(11.6, 11.5), (11.3, 11.2), (11.1, 10.9), (10.7, 10.1), (10, 9.8), (9.2, 9.1), (9.5, 9.4)]\n",
    "brightestgreen4 = (10.7, 10.1)"
   ]
  },
  {
   "cell_type": "code",
   "execution_count": 12,
   "metadata": {},
   "outputs": [],
   "source": [
    "'''green hair'''\n",
    "# hairwidth = ? #mm\n",
    "dlaserobject = 10.0 # cm\n",
    "\n",
    "rgreen4 = 117\n",
    "# 16 pictures\n",
    "ivalsgreen4 = [21.1, 19.9, 18.6, 18, 17, 16.2, 15.5, 14.6, 13.8, 13, 12.3, 11.3]\n",
    "brightestgreen4 = 15.5"
   ]
  },
  {
   "cell_type": "code",
   "execution_count": 13,
   "metadata": {},
   "outputs": [],
   "source": [
    "'''green hair'''\n",
    "# hairwidth = ? #mm\n",
    "dlaserobject = 10.0 # cm\n",
    "\n",
    "rgreen4 = 117\n",
    "# 16 pictures\n",
    "ivalsgreen4 = [20.7, 19.8, 19.1, 18.3, 17.5, 16.8, 15.9, 15.2, 14.1, 12.9, 12.2, 11.4, 10.6, 10, 9.2]\n",
    "brightestgreen4 = 14.1"
   ]
  }
 ],
 "metadata": {
  "kernelspec": {
   "display_name": "Python 3",
   "language": "python",
   "name": "python3"
  },
  "language_info": {
   "codemirror_mode": {
    "name": "ipython",
    "version": 3
   },
   "file_extension": ".py",
   "mimetype": "text/x-python",
   "name": "python",
   "nbconvert_exporter": "python",
   "pygments_lexer": "ipython3",
   "version": "3.6.3"
  }
 },
 "nbformat": 4,
 "nbformat_minor": 2
}
