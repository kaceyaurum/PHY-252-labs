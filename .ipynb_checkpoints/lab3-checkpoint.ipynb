{
 "cells": [
  {
   "cell_type": "markdown",
   "metadata": {},
   "source": [
    "roomtemp = 23 \\degrees C\n"
   ]
  },
  {
   "cell_type": "markdown",
   "metadata": {},
   "source": [
    "m = 936.2 g + 4*2kg + 933g"
   ]
  },
  {
   "cell_type": "code",
   "execution_count": 3,
   "metadata": {},
   "outputs": [],
   "source": [
    "res00 = 81\n",
    "\n",
    "#every10\n",
    "\n",
    "hres1 = 79.4\n",
    "hres2 = 76.6\n",
    "hres3 = 74.0\n",
    "hres4 = 71.5\n",
    "hres5 = 69.1\n",
    "hres6 = 66.8\n",
    "hres7 = 64.8\n",
    "hres8 = 62.8\n",
    "hres9 = 60.9\n",
    "hres10 = 59.1\n",
    "hres11 = 57.3\n",
    "hres12 = 55.6\n",
    "hres13 = 54.1\n",
    "hres14 = 52.6\n",
    "hres15 = 51.1\n",
    "\n",
    "#up10degs\n",
    "#1/min\n",
    "\n",
    "cres1 = 51.9\n",
    "cres2 = 53.5\n",
    "cres3 = 55.1\n",
    "cres4 = 56.6\n",
    "cres5 = 58.1\n",
    "cres6 = 59.5\n",
    "cres7 = 60.8\n",
    "#stop\n",
    "#down5degs"
   ]
  },
  {
   "cell_type": "code",
   "execution_count": 7,
   "metadata": {
    "collapsed": true
   },
   "outputs": [],
   "source": [
    "ht1 = 11.05\n",
    "ht2 = 10.60\n",
    "ht3 = 12.12\n",
    "ht4 = 12.44\n",
    "ht5 = 12.15\n",
    "ht6 = 2.16\n",
    "ht7 = 12.23\n",
    "ht8 = 12.29\n",
    "ht9 = 12.18\n",
    "ht10 = 12.46\n",
    "ht11 = 12.45\n",
    "ht12 = 12.63\n",
    "ht13 = 12.43\n",
    "ht14 = 12.70\n",
    "ct1 = 60.20\n",
    "ct2 = 60.06\n",
    "ct3 = 59.96\n",
    "ct4 = 60.13\n",
    "ct5 = 60.23\n",
    "ct6 = 60.12\n",
    "ct7 = 60.16"
   ]
  },
  {
   "cell_type": "code",
   "execution_count": null,
   "metadata": {
    "collapsed": true
   },
   "outputs": [],
   "source": []
  }
 ],
 "metadata": {
  "kernelspec": {
   "display_name": "Python 3",
   "language": "python",
   "name": "python3"
  },
  "language_info": {
   "codemirror_mode": {
    "name": "ipython",
    "version": 3
   },
   "file_extension": ".py",
   "mimetype": "text/x-python",
   "name": "python",
   "nbconvert_exporter": "python",
   "pygments_lexer": "ipython3",
   "version": "3.6.3"
  }
 },
 "nbformat": 4,
 "nbformat_minor": 2
}
