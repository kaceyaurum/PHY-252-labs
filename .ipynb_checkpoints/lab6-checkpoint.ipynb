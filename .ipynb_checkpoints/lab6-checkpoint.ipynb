{
 "cells": [
  {
   "cell_type": "markdown",
   "metadata": {},
   "source": [
    "T = 23 C"
   ]
  },
  {
   "cell_type": "code",
   "execution_count": 1,
   "metadata": {
    "collapsed": true
   },
   "outputs": [],
   "source": [
    "#spherometer\n",
    "linde = 25.5 #mm\n",
    "lindf = 25.5 #mm\n",
    "linef = 25.5 #mm"
   ]
  },
  {
   "cell_type": "code",
   "execution_count": 2,
   "metadata": {
    "collapsed": true
   },
   "outputs": [],
   "source": [
    "#estimate focal length from ceiling light\n",
    "aestfl = 46 #mm\n",
    "bestfl = 96 #mm\n",
    "destfl = 198 #mm\n",
    "eestfl = 215 #mm\n",
    "mestfl = 145 #mm"
   ]
  },
  {
   "cell_type": "code",
   "execution_count": 9,
   "metadata": {},
   "outputs": [],
   "source": [
    "#estimate focal length from laser light\n",
    "lightloc = 1150 #mm\n",
    "amesfl = 750 - 683 #mm\n",
    "bmesfl = 750 - 615 #mm\n",
    "dmesfl = 450 - 160 #mm\n",
    "emesfl = 450 - -65 #mm\n",
    "mmesfl = 750 - 503 #mm"
   ]
  },
  {
   "cell_type": "code",
   "execution_count": 16,
   "metadata": {},
   "outputs": [],
   "source": [
    "#measured focal length from spherometer\n",
    "base = 20.090 #mm\n",
    "spherometererror = .005 #mm\n",
    "afl = 21.575 #mm\n",
    "bfl = 21.135 #mm\n",
    "dfl = 20.525 #mm\n",
    "efl = 20.390 #mm\n",
    "mfl = 21.580 #mm"
   ]
  },
  {
   "cell_type": "code",
   "execution_count": 18,
   "metadata": {
    "collapsed": true
   },
   "outputs": [],
   "source": [
    "fls = [afl, bfl, dfl, efl, mfl]"
   ]
  },
  {
   "cell_type": "code",
   "execution_count": 23,
   "metadata": {
    "scrolled": true
   },
   "outputs": [],
   "source": [
    "calcfl = [linde**2/6/(fl-base) + (fl-base)/2 for fl in fls]"
   ]
  },
  {
   "cell_type": "code",
   "execution_count": 26,
   "metadata": {},
   "outputs": [
    {
     "data": {
      "text/plain": [
       "435.12229797979717"
      ]
     },
     "execution_count": 26,
     "metadata": {},
     "output_type": "execute_result"
    }
   ],
   "source": [
    "calcfl[-2]+calcfl[0]"
   ]
  },
  {
   "cell_type": "code",
   "execution_count": 17,
   "metadata": {},
   "outputs": [
    {
     "name": "stdout",
     "output_type": "stream",
     "text": [
      "Variable           Type     Data/Info\n",
      "-------------------------------------\n",
      "aestfl             int      46\n",
      "afl                float    21.575\n",
      "amesfl             int      67\n",
      "base               float    20.09\n",
      "bestfl             int      96\n",
      "bfl                float    21.135\n",
      "bmesfl             int      135\n",
      "destfl             int      198\n",
      "dfl                float    20.525\n",
      "dist               int      400\n",
      "dmesfl             int      290\n",
      "eestfl             int      215\n",
      "efl                float    20.39\n",
      "emesfl             int      515\n",
      "lightloc           int      1150\n",
      "linde              float    25.5\n",
      "lindf              float    25.5\n",
      "linef              float    25.5\n",
      "mestfl             int      145\n",
      "mfl                float    21.58\n",
      "mmesfl             int      247\n",
      "spherometererror   float    0.005\n"
     ]
    }
   ],
   "source": [
    "whos"
   ]
  },
  {
   "cell_type": "code",
   "execution_count": null,
   "metadata": {
    "collapsed": true
   },
   "outputs": [],
   "source": []
  }
 ],
 "metadata": {
  "kernelspec": {
   "display_name": "Python 3",
   "language": "python",
   "name": "python3"
  },
  "language_info": {
   "codemirror_mode": {
    "name": "ipython",
    "version": 3
   },
   "file_extension": ".py",
   "mimetype": "text/x-python",
   "name": "python",
   "nbconvert_exporter": "python",
   "pygments_lexer": "ipython3",
   "version": "3.6.3"
  }
 },
 "nbformat": 4,
 "nbformat_minor": 2
}
