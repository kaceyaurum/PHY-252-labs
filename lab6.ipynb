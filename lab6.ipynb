{
 "cells": [
  {
   "cell_type": "markdown",
   "metadata": {},
   "source": [
    "T = 23 C"
   ]
  },
  {
   "cell_type": "markdown",
   "metadata": {},
   "source": [
    "Lenses labeled A, B, D, E, and M\n",
    "\n",
    "M is convex on one side and flat on other, and all the others are convex on both sides."
   ]
  },
  {
   "cell_type": "code",
   "execution_count": 12,
   "metadata": {
    "collapsed": true
   },
   "outputs": [],
   "source": [
    "import pandas as pd\n",
    "import numpy as np\n",
    "import matplotlib.pyplot as plt\n",
    "import scipy\n",
    "%matplotlib inline"
   ]
  },
  {
   "cell_type": "code",
   "execution_count": 13,
   "metadata": {
    "collapsed": true
   },
   "outputs": [],
   "source": [
    "#spherometer\n",
    "linde = 25.5 #mm\n",
    "lindf = 25.5 #mm\n",
    "linef = 25.5 #mm"
   ]
  },
  {
   "cell_type": "code",
   "execution_count": 14,
   "metadata": {
    "collapsed": true
   },
   "outputs": [],
   "source": [
    "#estimate focal length from ceiling light\n",
    "aestfl = 46 #mm\n",
    "bestfl = 96 #mm\n",
    "destfl = 198 #mm\n",
    "eestfl = 215 #mm\n",
    "mestfl = 145 #mm"
   ]
  },
  {
   "cell_type": "code",
   "execution_count": 15,
   "metadata": {
    "collapsed": true
   },
   "outputs": [],
   "source": [
    "#estimate focal length from laser light\n",
    "lightloc = 1150 #mm\n",
    "amesfl = 750 - 683 #mm\n",
    "bmesfl = 750 - 615 #mm\n",
    "dmesfl = 450 - 160 #mm\n",
    "emesfl = 450 - -65 #mm\n",
    "mmesfl = 750 - 503 #mm"
   ]
  },
  {
   "cell_type": "code",
   "execution_count": 16,
   "metadata": {
    "collapsed": true
   },
   "outputs": [],
   "source": [
    "#measured focal length from spherometer\n",
    "base = 20.090 #mm\n",
    "spherometererror = .005 #mm\n",
    "afl = 21.575 #mm\n",
    "bfl = 21.135 #mm\n",
    "dfl = 20.525 #mm\n",
    "efl = 20.390 #mm\n",
    "mfl = 21.580 #mm"
   ]
  },
  {
   "cell_type": "code",
   "execution_count": 17,
   "metadata": {
    "collapsed": true
   },
   "outputs": [],
   "source": [
    "fls = [afl, bfl, dfl, efl, mfl]"
   ]
  },
  {
   "cell_type": "code",
   "execution_count": 32,
   "metadata": {
    "collapsed": true,
    "scrolled": true
   },
   "outputs": [],
   "source": [
    "calcr = [linde**2/6/(fl-base) + (fl-base)/2 for fl in fls]"
   ]
  },
  {
   "cell_type": "code",
   "execution_count": 47,
   "metadata": {},
   "outputs": [],
   "source": [
    "calcfl = 1/((1.52-1)*2/np.array((calcr)))"
   ]
  },
  {
   "cell_type": "code",
   "execution_count": 48,
   "metadata": {},
   "outputs": [
    {
     "data": {
      "text/plain": [
       "418.38682498057415"
      ]
     },
     "execution_count": 48,
     "metadata": {},
     "output_type": "execute_result"
    }
   ],
   "source": [
    "calcfl[-2]+calcfl[0]"
   ]
  },
  {
   "cell_type": "code",
   "execution_count": 49,
   "metadata": {},
   "outputs": [
    {
     "data": {
      "text/plain": [
       "array([  70.88682498,  100.22176343,  239.76483753,  347.5       ,\n",
       "         70.65374935])"
      ]
     },
     "execution_count": 49,
     "metadata": {},
     "output_type": "execute_result"
    }
   ],
   "source": [
    "calcfl"
   ]
  },
  {
   "cell_type": "code",
   "execution_count": 50,
   "metadata": {},
   "outputs": [
    {
     "name": "stdout",
     "output_type": "stream",
     "text": [
      "Variable           Type           Data/Info\n",
      "-------------------------------------------\n",
      "aestfl             int            46\n",
      "afl                float          21.575\n",
      "amesfl             int            67\n",
      "ax                 AxesSubplot    AxesSubplot(0.125,0.125;0.775x0.755)\n",
      "base               float          20.09\n",
      "bestfl             int            96\n",
      "bfl                float          21.135\n",
      "bmesfl             int            135\n",
      "calcfl             ndarray        5: 5 elems, type `float64`, 40 bytes\n",
      "calcr              list           n=5\n",
      "data               DataFrame        lens  ceiling  laser sp<...>  145    247          NaN\n",
      "destfl             int            198\n",
      "dfl                float          20.525\n",
      "dmesfl             int            290\n",
      "eestfl             int            215\n",
      "efl                float          20.39\n",
      "emesfl             int            515\n",
      "fig                Figure         Figure(288x216)\n",
      "fls                list           n=5\n",
      "lightloc           int            1150\n",
      "linde              float          25.5\n",
      "lindf              float          25.5\n",
      "linef              float          25.5\n",
      "mestfl             int            145\n",
      "mfl                float          21.58\n",
      "mmesfl             int            247\n",
      "np                 module         <module 'numpy' from '/ho<...>kages/numpy/__init__.py'>\n",
      "pd                 module         <module 'pandas' from '/h<...>ages/pandas/__init__.py'>\n",
      "plt                module         <module 'matplotlib.pyplo<...>es/matplotlib/pyplot.py'>\n",
      "scipy              module         <module 'scipy' from '/ho<...>kages/scipy/__init__.py'>\n",
      "spherometererror   float          0.005\n"
     ]
    }
   ],
   "source": [
    "whos"
   ]
  },
  {
   "cell_type": "code",
   "execution_count": 60,
   "metadata": {},
   "outputs": [],
   "source": [
    "calcfl = [a for a in calcfl]"
   ]
  },
  {
   "cell_type": "code",
   "execution_count": 66,
   "metadata": {},
   "outputs": [],
   "source": [
    "data = pd.DataFrame({'lens': ['A', 'B', 'D', 'E', 'M'], 'ceiling': [aestfl, bestfl, destfl, eestfl, mestfl],\n",
    "                     'laser': [amesfl, bmesfl, dmesfl, emesfl, mmesfl], 'spherometer': calcfl},\n",
    "                    columns=['lens', 'ceiling', 'laser', 'spherometer'])"
   ]
  },
  {
   "cell_type": "code",
   "execution_count": 67,
   "metadata": {
    "scrolled": true
   },
   "outputs": [
    {
     "data": {
      "text/html": [
       "<div>\n",
       "<style>\n",
       "    .dataframe thead tr:only-child th {\n",
       "        text-align: right;\n",
       "    }\n",
       "\n",
       "    .dataframe thead th {\n",
       "        text-align: left;\n",
       "    }\n",
       "\n",
       "    .dataframe tbody tr th {\n",
       "        vertical-align: top;\n",
       "    }\n",
       "</style>\n",
       "<table border=\"1\" class=\"dataframe\">\n",
       "  <thead>\n",
       "    <tr style=\"text-align: right;\">\n",
       "      <th></th>\n",
       "      <th>lens</th>\n",
       "      <th>ceiling</th>\n",
       "      <th>laser</th>\n",
       "      <th>spherometer</th>\n",
       "    </tr>\n",
       "  </thead>\n",
       "  <tbody>\n",
       "    <tr>\n",
       "      <th>0</th>\n",
       "      <td>A</td>\n",
       "      <td>46</td>\n",
       "      <td>67</td>\n",
       "      <td>70.886825</td>\n",
       "    </tr>\n",
       "    <tr>\n",
       "      <th>1</th>\n",
       "      <td>B</td>\n",
       "      <td>96</td>\n",
       "      <td>135</td>\n",
       "      <td>100.221763</td>\n",
       "    </tr>\n",
       "    <tr>\n",
       "      <th>2</th>\n",
       "      <td>D</td>\n",
       "      <td>198</td>\n",
       "      <td>290</td>\n",
       "      <td>239.764838</td>\n",
       "    </tr>\n",
       "    <tr>\n",
       "      <th>3</th>\n",
       "      <td>E</td>\n",
       "      <td>215</td>\n",
       "      <td>515</td>\n",
       "      <td>347.500000</td>\n",
       "    </tr>\n",
       "    <tr>\n",
       "      <th>4</th>\n",
       "      <td>M</td>\n",
       "      <td>145</td>\n",
       "      <td>247</td>\n",
       "      <td>70.653749</td>\n",
       "    </tr>\n",
       "  </tbody>\n",
       "</table>\n",
       "</div>"
      ],
      "text/plain": [
       "  lens  ceiling  laser  spherometer\n",
       "0    A       46     67    70.886825\n",
       "1    B       96    135   100.221763\n",
       "2    D      198    290   239.764838\n",
       "3    E      215    515   347.500000\n",
       "4    M      145    247    70.653749"
      ]
     },
     "execution_count": 67,
     "metadata": {},
     "output_type": "execute_result"
    }
   ],
   "source": [
    "data"
   ]
  },
  {
   "cell_type": "code",
   "execution_count": 93,
   "metadata": {},
   "outputs": [
    {
     "data": {
      "image/png": "[encoded data removed]",
      "text/plain": [
       "<matplotlib.figure.Figure at 0x7f9a103e0320>"
      ]
     },
     "metadata": {},
     "output_type": "display_data"
    }
   ],
   "source": [
    "fig = plt.figure(figsize=(4,3))\n",
    "ax = fig.add_subplot(111)\n",
    "x = data['ceiling']\n",
    "y = data['laser']\n",
    "ax.scatter(x, y)\n",
    "ax.set_xlabel('ceiling light measured focal length (mm)')\n",
    "ax.set_ylabel('laser light measured focal length (mm)')\n",
    "ax.set_title('laser light vs ceiling light measured focal lengths')\n",
    "m,b = np.polyfit(x, y, 1)\n",
    "t = np.arange(45, 230)\n",
    "v = m*t +b\n",
    "ax.plot(t, v, c=(1,0,0))\n",
    "ax.figure.savefig('lab6-lc')"
   ]
  },
  {
   "cell_type": "code",
   "execution_count": 94,
   "metadata": {},
   "outputs": [
    {
     "data": {
      "image/png": "[encoded data removed]",
      "text/plain": [
       "<matplotlib.figure.Figure at 0x7f9a103f8be0>"
      ]
     },
     "metadata": {},
     "output_type": "display_data"
    }
   ],
   "source": [
    "fig = plt.figure(figsize=(4,3))\n",
    "ax = fig.add_subplot(111)\n",
    "x = data['ceiling']\n",
    "y = data['spherometer']\n",
    "ax.scatter(x, y)\n",
    "ax.set_xlabel('ceiling light measured focal length (mm)')\n",
    "ax.set_ylabel('spherometer measured focal length (mm)')\n",
    "ax.set_title('spherometer vs ceiling light measured focal lengths')\n",
    "\n",
    "m,b = np.polyfit(x, y, 1)\n",
    "t = np.arange(40, 230)\n",
    "v = m*t +b\n",
    "ax.plot(t, v, c=(1,0,0))\n",
    "ax.figure.savefig('lab6-sc')"
   ]
  },
  {
   "cell_type": "code",
   "execution_count": 95,
   "metadata": {
    "scrolled": true
   },
   "outputs": [
    {
     "data": {
      "image/png": "[encoded data removed]",
      "text/plain": [
       "<matplotlib.figure.Figure at 0x7f9a103b18d0>"
      ]
     },
     "metadata": {},
     "output_type": "display_data"
    }
   ],
   "source": [
    "fig = plt.figure(figsize=(4,3))\n",
    "ax = fig.add_subplot(111)\n",
    "x = data['laser']\n",
    "y = data['spherometer']\n",
    "ax.scatter(x, y)\n",
    "ax.set_xlabel('laser light measured focal length (mm)')\n",
    "ax.set_ylabel('spherometer measured focal length (mm)')\n",
    "ax.set_title('spherometer vs ceiling light measured focal lengths')\n",
    "\n",
    "m,b = np.polyfit(x, y, 1)\n",
    "t = np.arange(40, 550)\n",
    "v = m*t +b\n",
    "ax.plot(t, v, c=(1,0,0))\n",
    "ax.figure.savefig('lab6-sl')"
   ]
  },
  {
   "cell_type": "code",
   "execution_count": 97,
   "metadata": {
    "collapsed": true
   },
   "outputs": [],
   "source": [
    "o = 75\n",
    "oerr = 1\n",
    "i = 440\n",
    "ierr = 100\n",
    "M = i/o"
   ]
  },
  {
   "cell_type": "code",
   "execution_count": 177,
   "metadata": {},
   "outputs": [
    {
     "data": {
      "text/plain": [
       "5.866666666666666"
      ]
     },
     "execution_count": 177,
     "metadata": {},
     "output_type": "execute_result"
    }
   ],
   "source": [
    "M"
   ]
  },
  {
   "cell_type": "code",
   "execution_count": 109,
   "metadata": {},
   "outputs": [],
   "source": [
    "Ms = [{'eye '+data['lens'][j]:[{'objective '+data['lens'][i]:fo/fe for i, fe in enumerate(calcfl)}]\n",
    "      for j, fo in enumerate(calcfl)}]"
   ]
  },
  {
   "cell_type": "code",
   "execution_count": 110,
   "metadata": {},
   "outputs": [
    {
     "data": {
      "text/plain": [
       "[{'eye A': [{'objective A': 1.0,\n",
       "    'objective B': 0.70729971766365152,\n",
       "    'objective D': 0.29565146294969974,\n",
       "    'objective E': 0.20399086325345378,\n",
       "    'objective M': 1.0032988429917957}],\n",
       "  'eye B': [{'objective A': 1.4138277946769078,\n",
       "    'objective B': 1.0,\n",
       "    'objective D': 0.41800025585517553,\n",
       "    'objective E': 0.28840795232786925,\n",
       "    'objective M': 1.4184917905889838}],\n",
       "  'eye D': [{'objective A': 3.3823610748380895,\n",
       "    'objective B': 2.3923430332695053,\n",
       "    'objective D': 1.0,\n",
       "    'objective E': 0.68997075549110165,\n",
       "    'objective M': 3.3935189529655418}],\n",
       "  'eye E': [{'objective A': 4.9021803430358739,\n",
       "    'objective B': 3.4673107725655758,\n",
       "    'objective D': 1.449336790061817,\n",
       "    'objective E': 1.0,\n",
       "    'objective M': 4.9183518663050165}],\n",
       "  'eye M': [{'objective A': 0.99671200359211143,\n",
       "    'objective B': 0.70497411873267279,\n",
       "    'objective D': 0.29467936200153416,\n",
       "    'objective E': 0.20332014202783433,\n",
       "    'objective M': 1.0}]}]"
      ]
     },
     "execution_count": 110,
     "metadata": {},
     "output_type": "execute_result"
    }
   ],
   "source": [
    "Ms"
   ]
  },
  {
   "cell_type": "code",
   "execution_count": 164,
   "metadata": {},
   "outputs": [],
   "source": [
    "aeye = {'objective '+data['lens'][i]:fo/data['spherometer'][0] for i, fo in enumerate(data['spherometer'])}\n",
    "beye = {'objective '+data['lens'][i]:fo/data['spherometer'][1] for i, fo in enumerate(data['spherometer'])}\n",
    "deye = {'objective '+data['lens'][i]:fo/data['spherometer'][2] for i, fo in enumerate(data['spherometer'])}\n",
    "eeye = {'objective '+data['lens'][i]:fo/data['spherometer'][3] for i, fo in enumerate(data['spherometer'])}\n",
    "meye = {'objective '+data['lens'][i]:fo/data['spherometer'][4] for i, fo in enumerate(data['spherometer'])}\n",
    "Ms = pd.DataFrame({'eye A':aeye, 'eye B':beye, 'eye D':deye,'eye E':eeye, 'eye M':meye})"
   ]
  },
  {
   "cell_type": "code",
   "execution_count": 165,
   "metadata": {},
   "outputs": [
    {
     "name": "stderr",
     "output_type": "stream",
     "text": [
      "/home/kreidy/anaconda3/lib/python3.6/site-packages/ipykernel_launcher.py:7: FutureWarning: 'pandas.tools.plotting.table' is deprecated, import 'pandas.plotting.table' instead.\n",
      "  import sys\n"
     ]
    },
    {
     "data": {
      "image/png": "[encoded data removed]",
      "text/plain": [
       "<matplotlib.figure.Figure at 0x7f9a10024898>"
      ]
     },
     "metadata": {},
     "output_type": "display_data"
    }
   ],
   "source": [
    "from pandas.tools.plotting import table\n",
    "\n",
    "ax = plt.subplot(111, frame_on=False) # no visible frame\n",
    "ax.xaxis.set_visible(False)  # hide the x axis\n",
    "ax.yaxis.set_visible(False)  # hide the y axis\n",
    "\n",
    "table(ax, Ms)  # where df is your data frame\n",
    "\n",
    "plt.savefig('lab6-Ms.png')"
   ]
  },
  {
   "cell_type": "code",
   "execution_count": 166,
   "metadata": {},
   "outputs": [
    {
     "data": {
      "text/html": [
       "<div>\n",
       "<style>\n",
       "    .dataframe thead tr:only-child th {\n",
       "        text-align: right;\n",
       "    }\n",
       "\n",
       "    .dataframe thead th {\n",
       "        text-align: left;\n",
       "    }\n",
       "\n",
       "    .dataframe tbody tr th {\n",
       "        vertical-align: top;\n",
       "    }\n",
       "</style>\n",
       "<table border=\"1\" class=\"dataframe\">\n",
       "  <thead>\n",
       "    <tr style=\"text-align: right;\">\n",
       "      <th></th>\n",
       "      <th>eye A</th>\n",
       "      <th>eye B</th>\n",
       "      <th>eye D</th>\n",
       "      <th>eye E</th>\n",
       "      <th>eye M</th>\n",
       "    </tr>\n",
       "  </thead>\n",
       "  <tbody>\n",
       "    <tr>\n",
       "      <th>objective A</th>\n",
       "      <td>1.000000</td>\n",
       "      <td>0.707300</td>\n",
       "      <td>0.295651</td>\n",
       "      <td>0.203991</td>\n",
       "      <td>1.003299</td>\n",
       "    </tr>\n",
       "    <tr>\n",
       "      <th>objective B</th>\n",
       "      <td>1.413828</td>\n",
       "      <td>1.000000</td>\n",
       "      <td>0.418000</td>\n",
       "      <td>0.288408</td>\n",
       "      <td>1.418492</td>\n",
       "    </tr>\n",
       "    <tr>\n",
       "      <th>objective D</th>\n",
       "      <td>3.382361</td>\n",
       "      <td>2.392343</td>\n",
       "      <td>1.000000</td>\n",
       "      <td>0.689971</td>\n",
       "      <td>3.393519</td>\n",
       "    </tr>\n",
       "    <tr>\n",
       "      <th>objective E</th>\n",
       "      <td>4.902180</td>\n",
       "      <td>3.467311</td>\n",
       "      <td>1.449337</td>\n",
       "      <td>1.000000</td>\n",
       "      <td>4.918352</td>\n",
       "    </tr>\n",
       "    <tr>\n",
       "      <th>objective M</th>\n",
       "      <td>0.996712</td>\n",
       "      <td>0.704974</td>\n",
       "      <td>0.294679</td>\n",
       "      <td>0.203320</td>\n",
       "      <td>1.000000</td>\n",
       "    </tr>\n",
       "  </tbody>\n",
       "</table>\n",
       "</div>"
      ],
      "text/plain": [
       "                eye A     eye B     eye D     eye E     eye M\n",
       "objective A  1.000000  0.707300  0.295651  0.203991  1.003299\n",
       "objective B  1.413828  1.000000  0.418000  0.288408  1.418492\n",
       "objective D  3.382361  2.392343  1.000000  0.689971  3.393519\n",
       "objective E  4.902180  3.467311  1.449337  1.000000  4.918352\n",
       "objective M  0.996712  0.704974  0.294679  0.203320  1.000000"
      ]
     },
     "execution_count": 166,
     "metadata": {},
     "output_type": "execute_result"
    }
   ],
   "source": [
    "Ms"
   ]
  },
  {
   "cell_type": "code",
   "execution_count": 167,
   "metadata": {},
   "outputs": [
    {
     "data": {
      "text/plain": [
       "5.866666666666666"
      ]
     },
     "execution_count": 167,
     "metadata": {},
     "output_type": "execute_result"
    }
   ],
   "source": [
    "M"
   ]
  },
  {
   "cell_type": "code",
   "execution_count": 168,
   "metadata": {
    "collapsed": true
   },
   "outputs": [],
   "source": [
    "aeye = {'objective '+data['lens'][i]:fo/data['ceiling'][0] for i, fo in enumerate(data['ceiling'])}\n",
    "beye = {'objective '+data['lens'][i]:fo/data['ceiling'][1] for i, fo in enumerate(data['ceiling'])}\n",
    "deye = {'objective '+data['lens'][i]:fo/data['ceiling'][2] for i, fo in enumerate(data['ceiling'])}\n",
    "eeye = {'objective '+data['lens'][i]:fo/data['ceiling'][3] for i, fo in enumerate(data['ceiling'])}\n",
    "meye = {'objective '+data['lens'][i]:fo/data['ceiling'][4] for i, fo in enumerate(data['ceiling'])}\n",
    "Mc = pd.DataFrame({'eye A':aeye, 'eye B':beye, 'eye D':deye,'eye E':eeye, 'eye M':meye})"
   ]
  },
  {
   "cell_type": "code",
   "execution_count": 169,
   "metadata": {},
   "outputs": [
    {
     "name": "stderr",
     "output_type": "stream",
     "text": [
      "/home/kreidy/anaconda3/lib/python3.6/site-packages/ipykernel_launcher.py:7: FutureWarning: 'pandas.tools.plotting.table' is deprecated, import 'pandas.plotting.table' instead.\n",
      "  import sys\n"
     ]
    },
    {
     "data": {
      "image/png": "[encoded data removed]",
      "text/plain": [
       "<matplotlib.figure.Figure at 0x7f9a0fee5978>"
      ]
     },
     "metadata": {},
     "output_type": "display_data"
    }
   ],
   "source": [
    "from pandas.tools.plotting import table\n",
    "\n",
    "ax = plt.subplot(111, frame_on=False) # no visible frame\n",
    "ax.xaxis.set_visible(False)  # hide the x axis\n",
    "ax.yaxis.set_visible(False)  # hide the y axis\n",
    "\n",
    "table(ax, Mc)  # where df is your data frame\n",
    "\n",
    "plt.savefig('lab6-Mc.png')"
   ]
  },
  {
   "cell_type": "code",
   "execution_count": 170,
   "metadata": {},
   "outputs": [
    {
     "data": {
      "text/html": [
       "<div>\n",
       "<style>\n",
       "    .dataframe thead tr:only-child th {\n",
       "        text-align: right;\n",
       "    }\n",
       "\n",
       "    .dataframe thead th {\n",
       "        text-align: left;\n",
       "    }\n",
       "\n",
       "    .dataframe tbody tr th {\n",
       "        vertical-align: top;\n",
       "    }\n",
       "</style>\n",
       "<table border=\"1\" class=\"dataframe\">\n",
       "  <thead>\n",
       "    <tr style=\"text-align: right;\">\n",
       "      <th></th>\n",
       "      <th>eye A</th>\n",
       "      <th>eye B</th>\n",
       "      <th>eye D</th>\n",
       "      <th>eye E</th>\n",
       "      <th>eye M</th>\n",
       "    </tr>\n",
       "  </thead>\n",
       "  <tbody>\n",
       "    <tr>\n",
       "      <th>objective A</th>\n",
       "      <td>1.000000</td>\n",
       "      <td>0.479167</td>\n",
       "      <td>0.232323</td>\n",
       "      <td>0.213953</td>\n",
       "      <td>0.317241</td>\n",
       "    </tr>\n",
       "    <tr>\n",
       "      <th>objective B</th>\n",
       "      <td>2.086957</td>\n",
       "      <td>1.000000</td>\n",
       "      <td>0.484848</td>\n",
       "      <td>0.446512</td>\n",
       "      <td>0.662069</td>\n",
       "    </tr>\n",
       "    <tr>\n",
       "      <th>objective D</th>\n",
       "      <td>4.304348</td>\n",
       "      <td>2.062500</td>\n",
       "      <td>1.000000</td>\n",
       "      <td>0.920930</td>\n",
       "      <td>1.365517</td>\n",
       "    </tr>\n",
       "    <tr>\n",
       "      <th>objective E</th>\n",
       "      <td>4.673913</td>\n",
       "      <td>2.239583</td>\n",
       "      <td>1.085859</td>\n",
       "      <td>1.000000</td>\n",
       "      <td>1.482759</td>\n",
       "    </tr>\n",
       "    <tr>\n",
       "      <th>objective M</th>\n",
       "      <td>3.152174</td>\n",
       "      <td>1.510417</td>\n",
       "      <td>0.732323</td>\n",
       "      <td>0.674419</td>\n",
       "      <td>1.000000</td>\n",
       "    </tr>\n",
       "  </tbody>\n",
       "</table>\n",
       "</div>"
      ],
      "text/plain": [
       "                eye A     eye B     eye D     eye E     eye M\n",
       "objective A  1.000000  0.479167  0.232323  0.213953  0.317241\n",
       "objective B  2.086957  1.000000  0.484848  0.446512  0.662069\n",
       "objective D  4.304348  2.062500  1.000000  0.920930  1.365517\n",
       "objective E  4.673913  2.239583  1.085859  1.000000  1.482759\n",
       "objective M  3.152174  1.510417  0.732323  0.674419  1.000000"
      ]
     },
     "execution_count": 170,
     "metadata": {},
     "output_type": "execute_result"
    }
   ],
   "source": [
    "Mc"
   ]
  },
  {
   "cell_type": "code",
   "execution_count": 171,
   "metadata": {
    "collapsed": true
   },
   "outputs": [],
   "source": [
    "aeye = {'objective '+data['lens'][i]:fo/data['laser'][0] for i, fo in enumerate(data['laser'])}\n",
    "beye = {'objective '+data['lens'][i]:fo/data['laser'][1] for i, fo in enumerate(data['laser'])}\n",
    "deye = {'objective '+data['lens'][i]:fo/data['laser'][2] for i, fo in enumerate(data['laser'])}\n",
    "eeye = {'objective '+data['lens'][i]:fo/data['laser'][3] for i, fo in enumerate(data['laser'])}\n",
    "meye = {'objective '+data['lens'][i]:fo/data['laser'][4] for i, fo in enumerate(data['laser'])}\n",
    "Ml = pd.DataFrame({'eye A':aeye, 'eye B':beye, 'eye D':deye,'eye E':eeye, 'eye M':meye})"
   ]
  },
  {
   "cell_type": "code",
   "execution_count": 172,
   "metadata": {
    "scrolled": true
   },
   "outputs": [
    {
     "name": "stderr",
     "output_type": "stream",
     "text": [
      "/home/kreidy/anaconda3/lib/python3.6/site-packages/ipykernel_launcher.py:7: FutureWarning: 'pandas.tools.plotting.table' is deprecated, import 'pandas.plotting.table' instead.\n",
      "  import sys\n"
     ]
    },
    {
     "data": {
      "image/png": "[encoded data removed]",
      "text/plain": [
       "<matplotlib.figure.Figure at 0x7f9a0feacf60>"
      ]
     },
     "metadata": {},
     "output_type": "display_data"
    }
   ],
   "source": [
    "from pandas.tools.plotting import table\n",
    "\n",
    "ax = plt.subplot(111, frame_on=False) # no visible frame\n",
    "ax.xaxis.set_visible(False)  # hide the x axis\n",
    "ax.yaxis.set_visible(False)  # hide the y axis\n",
    "\n",
    "table(ax, Ml)  # where df is your data frame\n",
    "\n",
    "plt.savefig('lab6-Ml.png')"
   ]
  },
  {
   "cell_type": "code",
   "execution_count": 173,
   "metadata": {},
   "outputs": [
    {
     "data": {
      "text/html": [
       "<div>\n",
       "<style>\n",
       "    .dataframe thead tr:only-child th {\n",
       "        text-align: right;\n",
       "    }\n",
       "\n",
       "    .dataframe thead th {\n",
       "        text-align: left;\n",
       "    }\n",
       "\n",
       "    .dataframe tbody tr th {\n",
       "        vertical-align: top;\n",
       "    }\n",
       "</style>\n",
       "<table border=\"1\" class=\"dataframe\">\n",
       "  <thead>\n",
       "    <tr style=\"text-align: right;\">\n",
       "      <th></th>\n",
       "      <th>eye A</th>\n",
       "      <th>eye B</th>\n",
       "      <th>eye D</th>\n",
       "      <th>eye E</th>\n",
       "      <th>eye M</th>\n",
       "    </tr>\n",
       "  </thead>\n",
       "  <tbody>\n",
       "    <tr>\n",
       "      <th>objective A</th>\n",
       "      <td>1.000000</td>\n",
       "      <td>0.496296</td>\n",
       "      <td>0.231034</td>\n",
       "      <td>0.130097</td>\n",
       "      <td>0.271255</td>\n",
       "    </tr>\n",
       "    <tr>\n",
       "      <th>objective B</th>\n",
       "      <td>2.014925</td>\n",
       "      <td>1.000000</td>\n",
       "      <td>0.465517</td>\n",
       "      <td>0.262136</td>\n",
       "      <td>0.546559</td>\n",
       "    </tr>\n",
       "    <tr>\n",
       "      <th>objective D</th>\n",
       "      <td>4.328358</td>\n",
       "      <td>2.148148</td>\n",
       "      <td>1.000000</td>\n",
       "      <td>0.563107</td>\n",
       "      <td>1.174089</td>\n",
       "    </tr>\n",
       "    <tr>\n",
       "      <th>objective E</th>\n",
       "      <td>7.686567</td>\n",
       "      <td>3.814815</td>\n",
       "      <td>1.775862</td>\n",
       "      <td>1.000000</td>\n",
       "      <td>2.085020</td>\n",
       "    </tr>\n",
       "    <tr>\n",
       "      <th>objective M</th>\n",
       "      <td>3.686567</td>\n",
       "      <td>1.829630</td>\n",
       "      <td>0.851724</td>\n",
       "      <td>0.479612</td>\n",
       "      <td>1.000000</td>\n",
       "    </tr>\n",
       "  </tbody>\n",
       "</table>\n",
       "</div>"
      ],
      "text/plain": [
       "                eye A     eye B     eye D     eye E     eye M\n",
       "objective A  1.000000  0.496296  0.231034  0.130097  0.271255\n",
       "objective B  2.014925  1.000000  0.465517  0.262136  0.546559\n",
       "objective D  4.328358  2.148148  1.000000  0.563107  1.174089\n",
       "objective E  7.686567  3.814815  1.775862  1.000000  2.085020\n",
       "objective M  3.686567  1.829630  0.851724  0.479612  1.000000"
      ]
     },
     "execution_count": 173,
     "metadata": {},
     "output_type": "execute_result"
    }
   ],
   "source": [
    "Ml"
   ]
  },
  {
   "cell_type": "code",
   "execution_count": 176,
   "metadata": {},
   "outputs": [
    {
     "name": "stdout",
     "output_type": "stream",
     "text": [
      "spherometer mag st dev: 0.482243161815\n",
      "ceiling mag st dev: 0.596376811594\n",
      "lamp/laser mag st dev: 0.909950248756\n"
     ]
    }
   ],
   "source": [
    "print('spherometer mag st dev:', np.std((Ms['eye A'][3], M)))\n",
    "print('ceiling mag st dev:', np.std((Mc['eye A'][3], M)))\n",
    "print('lamp/laser mag st dev:', np.std((Ml['eye A'][3], M)))"
   ]
  },
  {
   "cell_type": "code",
   "execution_count": 175,
   "metadata": {},
   "outputs": [
    {
     "data": {
      "text/html": [
       "<div>\n",
       "<style>\n",
       "    .dataframe thead tr:only-child th {\n",
       "        text-align: right;\n",
       "    }\n",
       "\n",
       "    .dataframe thead th {\n",
       "        text-align: left;\n",
       "    }\n",
       "\n",
       "    .dataframe tbody tr th {\n",
       "        vertical-align: top;\n",
       "    }\n",
       "</style>\n",
       "<table border=\"1\" class=\"dataframe\">\n",
       "  <thead>\n",
       "    <tr style=\"text-align: right;\">\n",
       "      <th></th>\n",
       "      <th>lens</th>\n",
       "      <th>ceiling</th>\n",
       "      <th>laser</th>\n",
       "      <th>spherometer</th>\n",
       "    </tr>\n",
       "  </thead>\n",
       "  <tbody>\n",
       "    <tr>\n",
       "      <th>0</th>\n",
       "      <td>A</td>\n",
       "      <td>46</td>\n",
       "      <td>67</td>\n",
       "      <td>70.886825</td>\n",
       "    </tr>\n",
       "    <tr>\n",
       "      <th>1</th>\n",
       "      <td>B</td>\n",
       "      <td>96</td>\n",
       "      <td>135</td>\n",
       "      <td>100.221763</td>\n",
       "    </tr>\n",
       "    <tr>\n",
       "      <th>2</th>\n",
       "      <td>D</td>\n",
       "      <td>198</td>\n",
       "      <td>290</td>\n",
       "      <td>239.764838</td>\n",
       "    </tr>\n",
       "    <tr>\n",
       "      <th>3</th>\n",
       "      <td>E</td>\n",
       "      <td>215</td>\n",
       "      <td>515</td>\n",
       "      <td>347.500000</td>\n",
       "    </tr>\n",
       "    <tr>\n",
       "      <th>4</th>\n",
       "      <td>M</td>\n",
       "      <td>145</td>\n",
       "      <td>247</td>\n",
       "      <td>70.653749</td>\n",
       "    </tr>\n",
       "  </tbody>\n",
       "</table>\n",
       "</div>"
      ],
      "text/plain": [
       "  lens  ceiling  laser  spherometer\n",
       "0    A       46     67    70.886825\n",
       "1    B       96    135   100.221763\n",
       "2    D      198    290   239.764838\n",
       "3    E      215    515   347.500000\n",
       "4    M      145    247    70.653749"
      ]
     },
     "execution_count": 175,
     "metadata": {},
     "output_type": "execute_result"
    }
   ],
   "source": [
    "data"
   ]
  },
  {
   "cell_type": "code",
   "execution_count": 155,
   "metadata": {},
   "outputs": [
    {
     "data": {
      "text/plain": [
       "<module 'numpy' from '/home/kreidy/anaconda3/lib/python3.6/site-packages/numpy/__init__.py'>"
      ]
     },
     "execution_count": 155,
     "metadata": {},
     "output_type": "execute_result"
    }
   ],
   "source": [
    "np."
   ]
  },
  {
   "cell_type": "code",
   "execution_count": null,
   "metadata": {
    "collapsed": true
   },
   "outputs": [],
   "source": []
  }
 ],
 "metadata": {
  "kernelspec": {
   "display_name": "Python 3",
   "language": "python",
   "name": "python3"
  },
  "language_info": {
   "codemirror_mode": {
    "name": "ipython",
    "version": 3
   },
   "file_extension": ".py",
   "mimetype": "text/x-python",
   "name": "python",
   "nbconvert_exporter": "python",
   "pygments_lexer": "ipython3",
   "version": "3.6.3"
  }
 },
 "nbformat": 4,
 "nbformat_minor": 2
}
