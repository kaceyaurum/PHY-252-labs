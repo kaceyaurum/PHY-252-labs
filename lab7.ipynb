{
 "cells": [
  {
   "cell_type": "code",
   "execution_count": 2,
   "metadata": {
    "collapsed": true
   },
   "outputs": [],
   "source": [
    "import numpy as np\n",
    "import pandas as pd\n",
    "from scipy.optimize import curve_fit\n",
    "from scipy.optimize import leastsq\n",
    "import matplotlib.pyplot as plt\n",
    "%matplotlib inline"
   ]
  },
  {
   "cell_type": "markdown",
   "metadata": {},
   "source": [
    "Temperature = 23 degrees C"
   ]
  },
  {
   "cell_type": "markdown",
   "metadata": {},
   "source": [
    "### Polarization Properties of the Generator and Receiver\n",
    "With the transmitter and receiver facing each other along a straight goniometer track, rotate one horn\n",
    "about its horizontal axis in 5° increments, and record the signal. Given that the receiver detects only one\n",
    "polarization, how do you expect the detected signal to vary if the transmitted waves are linearly\n",
    "polarized? Make a plot of this data; comment on if this is consistent with the data."
   ]
  },
  {
   "cell_type": "markdown",
   "metadata": {},
   "source": [
    "Call the angle relative to the upright position on this axis $\\phi$."
   ]
  },
  {
   "cell_type": "markdown",
   "metadata": {},
   "source": [
    "We would expect the strength of the detected signal to vary sinusoidally if the transmitted waves are linearly polarized. Think of it like having a fixed vector which represents the polarization of a wave, then imagine another vector that can be rotated which represents the angle of the receiver. The projection of the first vector on the second depends on th cosine of the angle between them, which is the same as the sine with a phase shift."
   ]
  },
  {
   "cell_type": "code",
   "execution_count": 3,
   "metadata": {
    "collapsed": true
   },
   "outputs": [],
   "source": [
    "phis = np.arange(0,185,5)\n",
    "currents = [.50, .52, .50, .48, .48, .46, .42, .38, .36, .32, .28, .22, .18, .14, .10, .08, .02, .02, .00, .00, .02, .04, .06, .10, .16, .20, .24, .28, .32, .36, .40, .43, .46, .48, .50, .50, .52]\n",
    "polardata = pd.DataFrame({'phi':phis, 'current': currents}, columns=['phi', 'current'])"
   ]
  },
  {
   "cell_type": "code",
   "execution_count": 125,
   "metadata": {},
   "outputs": [
    {
     "data": {
      "text/plain": [
       "Text(0.5,1,'current vs relative horn angle $\\\\phi$')"
      ]
     },
     "execution_count": 125,
     "metadata": {},
     "output_type": "execute_result"
    },
    {
     "data": {
      "image/png": "[encoded data removed]",
      "text/plain": [
       "<matplotlib.figure.Figure at 0x7fd385620828>"
      ]
     },
     "metadata": {},
     "output_type": "display_data"
    }
   ],
   "source": [
    "plt.scatter(polardata['phi'], polardata['current'], label='experimental data')\n",
    "plt.xlabel(r'angle ($^\\circ$)')\n",
    "plt.ylabel('current (mA)')\n",
    "plt.legend()\n",
    "plt.title(r'current vs relative horn angle $\\phi$')"
   ]
  },
  {
   "cell_type": "markdown",
   "metadata": {},
   "source": [
    "The data does appear to behave as we predicted."
   ]
  },
  {
   "cell_type": "markdown",
   "metadata": {},
   "source": [
    "### Spatial Dependence of Transmitter Signal\n",
    "Determine the dependence of the transmitter signal on the transmitter-receiver separation. Put the\n",
    "transmitter and receiver facing each other along a straight goniometer track, with the same polarization\n",
    "orientation for both. Start at a 45 cm separation and adjust the intensity/variable sensitivity dials on the\n",
    "receiver so that the meter reads 1.00. Then move the source and receiver farther apart, taking receiver\n",
    "readings at about 5 cm increments. From this data determine the r-dependence of the microwave\n",
    "receiver signal. Create a plot of this data and fit it to the curve $Ar^n$. Report the values $A \\pm \\delta A$ and $n \\pm \\delta n$."
   ]
  },
  {
   "cell_type": "code",
   "execution_count": 126,
   "metadata": {},
   "outputs": [],
   "source": [
    "separations = np.arange(65, 115, 5)\n",
    "currents = [1.00, .84, .78, .76, .66, .58, .56, .52, .52, .48]\n",
    "spatialdata = pd.DataFrame({'separation':separations, 'current': currents}, columns=['separation', 'current'])"
   ]
  },
  {
   "cell_type": "code",
   "execution_count": 127,
   "metadata": {
    "collapsed": true
   },
   "outputs": [],
   "source": [
    "def f(r, A, n):\n",
    "    return A*r**n"
   ]
  },
  {
   "cell_type": "code",
   "execution_count": 128,
   "metadata": {},
   "outputs": [],
   "source": [
    "params, cov = curve_fit(f, spatialdata['separation'], spatialdata['current'])"
   ]
  },
  {
   "cell_type": "code",
   "execution_count": 129,
   "metadata": {
    "collapsed": true
   },
   "outputs": [],
   "source": [
    "def f(r):\n",
    "    return params[0]*r**params[1]"
   ]
  },
  {
   "cell_type": "code",
   "execution_count": 130,
   "metadata": {},
   "outputs": [],
   "source": [
    "est = f([r for r in spatialdata['separation']])"
   ]
  },
  {
   "cell_type": "code",
   "execution_count": 131,
   "metadata": {},
   "outputs": [],
   "source": [
    "std = np.sqrt(np.diag(cov))"
   ]
  },
  {
   "cell_type": "markdown",
   "metadata": {},
   "source": [
    "The fitted equation is $344 r^{-1.4}$"
   ]
  },
  {
   "cell_type": "markdown",
   "metadata": {},
   "source": [
    "$A = 344 \\pm 114$\n",
    "\n",
    "$r = -1.4 \\pm .076$."
   ]
  },
  {
   "cell_type": "code",
   "execution_count": 132,
   "metadata": {
    "scrolled": true
   },
   "outputs": [
    {
     "data": {
      "text/plain": [
       "Text(0.5,1,'current vs horn separation')"
      ]
     },
     "execution_count": 132,
     "metadata": {},
     "output_type": "execute_result"
    },
    {
     "data": {
      "image/png": "[encoded data removed]",
      "text/plain": [
       "<matplotlib.figure.Figure at 0x7fd3855c9f60>"
      ]
     },
     "metadata": {},
     "output_type": "display_data"
    }
   ],
   "source": [
    "plt.scatter(spatialdata['separation'], spatialdata['current'], label='experimental data')\n",
    "plt.plot(spatialdata['separation'], est, c=(1,0,0), label='fitted data')\n",
    "plt.xlabel('separation (cm)')\n",
    "plt.ylabel('current (mA)')\n",
    "plt.legend()\n",
    "plt.title('current vs horn separation')"
   ]
  },
  {
   "cell_type": "markdown",
   "metadata": {},
   "source": [
    "The strength of the detected signal is likely theoretically inversely proportional to the separation. Inconsistencies between this prediction and the experimentally determined $I_{detected} \\propto r^{-1.4}$ is likely due to inaccuracies in the experiment."
   ]
  },
  {
   "cell_type": "markdown",
   "metadata": {},
   "source": [
    "### Angular Dependence of Transmitter Signal\n",
    "Place the transmitter directly over the protractor plate of the goniometer and position the receiver at\n",
    "the far end of the other arm. Rotate the receiver arm to study the angular dependence of the\n",
    "microwave signal radiated from the transmitter in 10 degree increments. What you want is the angular \n",
    "dependence of the microwave signal in the equatorial plane of the dipole source. Make sure you have\n",
    "both the transmitter and detector oriented with their polarizations vertical. Make a plot of this data.\n",
    "From the spatial and angular measurements, do you conclude that the waves are plane waves or\n",
    "spherical waves? (Even though the signal is not proportional to intensity, you can assume that they\n",
    "share the same r-dependence.) See the Appendix for a bit more on spherical and plane waves."
   ]
  },
  {
   "cell_type": "markdown",
   "metadata": {},
   "source": [
    "Call the angle relative to the upright position on this axis $\\theta$."
   ]
  },
  {
   "cell_type": "code",
   "execution_count": 133,
   "metadata": {
    "collapsed": true
   },
   "outputs": [],
   "source": [
    "sep = 60\n",
    "thetas = np.arange(0, 100, 10)\n",
    "currents = [1.00, .68, .32, .12, .04, .00, .00, .00, .00, .00]\n",
    "angulardata = pd.DataFrame({'theta':thetas, 'current': currents}, columns=['theta', 'current'])"
   ]
  },
  {
   "cell_type": "code",
   "execution_count": 134,
   "metadata": {
    "scrolled": true
   },
   "outputs": [
    {
     "data": {
      "text/plain": [
       "Text(0.5,1,'current vs relative horn angle $\\\\theta$')"
      ]
     },
     "execution_count": 134,
     "metadata": {},
     "output_type": "execute_result"
    },
    {
     "data": {
      "image/png": "[encoded data removed]",
      "text/plain": [
       "<matplotlib.figure.Figure at 0x7fd38593c0b8>"
      ]
     },
     "metadata": {},
     "output_type": "display_data"
    }
   ],
   "source": [
    "plt.scatter(angulardata['theta'], angulardata['current'], label='experimental data')\n",
    "plt.xlabel(r'angle ($^\\circ$)')\n",
    "plt.ylabel('current (mA)')\n",
    "plt.legend()\n",
    "plt.title(r'current vs relative horn angle $\\theta$')"
   ]
  },
  {
   "cell_type": "markdown",
   "metadata": {},
   "source": [
    "Since the intensity of the detected signal is inversely proportional to the separation, and planar waves have no such deterioration in intensity, the waves are not planar. Since the intensity also deteriorates with an increasing angle between the detector and the transmitter, the waves are also not spherical. (I think they're maybe cylindrical.)"
   ]
  },
  {
   "cell_type": "markdown",
   "metadata": {},
   "source": [
    "### Explore Polarization Phenomenon\n",
    "Start with the receiver and transmitter horns orthogonally oriented about their axes so the measured\n",
    "receiver signal is a minimum (“crossed” transmitter and receiver). Then place the slotted metal sheet\n",
    "polarizer in front of the transmitter horn and record the signal as you rotate the polarizer about the axis\n",
    "between transmitter and receiver in 10 degree increments. (One of the horns has a protractor scale to\n",
    "make this measurement easier.) Make a plot of the data and fit it to a sine or cosine function\n",
    "appropriately. Does the slotted sheet simply block polarization perpendicular to the slots, or is\n",
    "something more complicated happening? What physical model might explain the observations?"
   ]
  },
  {
   "cell_type": "markdown",
   "metadata": {},
   "source": [
    "Call the angle relative to the upright position on this axis $\\psi$."
   ]
  },
  {
   "cell_type": "code",
   "execution_count": 135,
   "metadata": {
    "collapsed": true
   },
   "outputs": [],
   "source": [
    "sep = 60\n",
    "psis = np.concatenate((np.arange(0, 50, 10), np.array([45]), np.arange(50, 70, 10)), axis=0)\n",
    "currents = [.00, .06, .10, .58, .80, .86, .90, .82] \n",
    "angulardata = pd.DataFrame({'psi':psis, 'current': currents}, columns=['psi', 'current'])"
   ]
  },
  {
   "cell_type": "code",
   "execution_count": 136,
   "metadata": {
    "collapsed": true
   },
   "outputs": [],
   "source": [
    "def fit_sin(tt, yy):\n",
    "    '''Fit sin to the input time sequence, and return fitting parameters \"amp\", \"omega\", \"phase\", \"offset\", \"freq\", \"period\" and \"fitfunc\"'''\n",
    "    tt = np.array(tt)\n",
    "    yy = np.array(yy)\n",
    "    ff = np.fft.fftfreq(len(tt), (tt[1]-tt[0]))   # assume uniform spacing\n",
    "    Fyy = abs(np.fft.fft(yy))\n",
    "    guess_freq = abs(ff[np.argmax(Fyy[1:])+1])   # excluding the zero frequency \"peak\", which is related to offset\n",
    "    guess_amp = np.std(yy) * 2.**0.5\n",
    "    guess_offset = np.mean(yy)\n",
    "    guess = np.array([guess_amp, 2.*np.pi*guess_freq, 0., guess_offset])\n",
    "\n",
    "    def sinfunc(t, A, w, p, c):  return A * np.sin(w*t + p) + c\n",
    "    popt, pcov = curve_fit(sinfunc, tt, yy, p0=guess)\n",
    "    A, w, p, c = popt\n",
    "    f = w/(2.*np.pi)\n",
    "    fitfunc = lambda t: A * np.sin(w*t + p) + c\n",
    "    return {\"amp\": A, \"omega\": w, \"phase\": p, \"offset\": c, \"freq\": f, \"period\": 1./f, \"fitfunc\": fitfunc, \"maxcov\": np.max(pcov), \"rawres\": (guess,popt,pcov)}"
   ]
  },
  {
   "cell_type": "code",
   "execution_count": 137,
   "metadata": {},
   "outputs": [],
   "source": [
    "res = fit_sin(angulardata['psi'], angulardata['current'])"
   ]
  },
  {
   "cell_type": "code",
   "execution_count": 138,
   "metadata": {
    "collapsed": true
   },
   "outputs": [],
   "source": [
    "est = res['fitfunc'](angulardata['psi'])"
   ]
  },
  {
   "cell_type": "code",
   "execution_count": 139,
   "metadata": {},
   "outputs": [],
   "source": [
    "std = np.sqrt(np.diag(res['rawres'][2]))"
   ]
  },
  {
   "cell_type": "markdown",
   "metadata": {},
   "source": [
    "$f(\\psi) = A \\sin{(\\omega \\psi + \\phi)} + c$ (different $\\phi$ than previous problems)"
   ]
  },
  {
   "cell_type": "markdown",
   "metadata": {},
   "source": [
    "The fitted equation is $-0.467 \\sin{(0.070 \\psi + 1.172)} + 0.446$"
   ]
  },
  {
   "cell_type": "markdown",
   "metadata": {},
   "source": [
    "$A = -0.467 \\pm .031$\n",
    "\n",
    "$\\omega = 0.070 \\pm .006$\n",
    "\n",
    "$\\phi = 1.172 \\pm .214$\n",
    "\n",
    "$c = 0.446 \\pm .028$"
   ]
  },
  {
   "cell_type": "code",
   "execution_count": 140,
   "metadata": {
    "scrolled": true
   },
   "outputs": [
    {
     "data": {
      "text/plain": [
       "Text(0.5,1,'current vs relative horn angle $\\\\psi$')"
      ]
     },
     "execution_count": 140,
     "metadata": {},
     "output_type": "execute_result"
    },
    {
     "data": {
      "image/png": "[encoded data removed]",
      "text/plain": [
       "<matplotlib.figure.Figure at 0x7fd3854ce438>"
      ]
     },
     "metadata": {},
     "output_type": "display_data"
    }
   ],
   "source": [
    "plt.scatter(angulardata['psi'], angulardata['current'], label='experimental data')\n",
    "plt.plot(angulardata['psi'], est, c=(1,0,0), label='fitted data')\n",
    "plt.xlabel(r'angle ($^\\circ$)')\n",
    "plt.ylabel('current (mA)')\n",
    "plt.legend()\n",
    "plt.title(r'current vs relative horn angle $\\psi$')"
   ]
  },
  {
   "cell_type": "markdown",
   "metadata": {},
   "source": [
    "We did this one in two ways, first by rotated the polarizer (above) and the second by rotating the transmitter (below)."
   ]
  },
  {
   "cell_type": "code",
   "execution_count": 141,
   "metadata": {
    "collapsed": true
   },
   "outputs": [],
   "source": [
    "sep = 60\n",
    "psis = np.concatenate((np.arange(0, 50, 10), np.array([45]), np.arange(50, 140, 10),np.array([135]), np.arange(140, 190, 10)), axis=0)\n",
    "currents = [.08, .08, .08, .06, .04, .03, .02, .02, .01, .00, .00, .00, .00, .02, .03, .04, .04, .06, .06, .08, .08]\n",
    "angulardata = pd.DataFrame({'psi':psis, 'current': currents}, columns=['psi', 'current'])"
   ]
  },
  {
   "cell_type": "code",
   "execution_count": 142,
   "metadata": {
    "collapsed": true
   },
   "outputs": [],
   "source": [
    "res = fit_sin(angulardata['psi'], angulardata['current'])"
   ]
  },
  {
   "cell_type": "code",
   "execution_count": 143,
   "metadata": {
    "collapsed": true
   },
   "outputs": [],
   "source": [
    "est = res['fitfunc'](angulardata['psi'])"
   ]
  },
  {
   "cell_type": "code",
   "execution_count": 144,
   "metadata": {
    "collapsed": true
   },
   "outputs": [],
   "source": [
    "std = np.sqrt(np.diag(res['rawres'][2]))"
   ]
  },
  {
   "cell_type": "markdown",
   "metadata": {},
   "source": [
    "$f(\\psi) = A \\sin{(\\omega \\psi + \\phi)} + c$ (different $\\phi$ than previous problems)"
   ]
  },
  {
   "cell_type": "markdown",
   "metadata": {},
   "source": [
    "The fitted equation is $0.043 \\sin{(.033 \\psi + 1.761)} + 0.040$"
   ]
  },
  {
   "cell_type": "markdown",
   "metadata": {},
   "source": [
    "$A = 0.043 \\pm .002$\n",
    "\n",
    "$\\omega = 0.033 \\pm .002$\n",
    "\n",
    "$\\phi = 1.761 \\pm .169$\n",
    "\n",
    "$c = .040 \\pm .003$"
   ]
  },
  {
   "cell_type": "code",
   "execution_count": 152,
   "metadata": {
    "scrolled": false
   },
   "outputs": [
    {
     "data": {
      "text/plain": [
       "Text(0.5,1,'current vs relative horn angle $\\\\psi$')"
      ]
     },
     "execution_count": 152,
     "metadata": {},
     "output_type": "execute_result"
    },
    {
     "data": {
      "image/png": "[encoded data removed]",
      "text/plain": [
       "<matplotlib.figure.Figure at 0x7fd38531a668>"
      ]
     },
     "metadata": {},
     "output_type": "display_data"
    }
   ],
   "source": [
    "plt.scatter(angulardata['psi'], angulardata['current'], label='experimental data')\n",
    "plt.plot(angulardata['psi'], est, c=(1,0,0), label='fitted data')\n",
    "plt.xlabel(r'angle ($^\\circ$)')\n",
    "plt.ylabel('current (mA)')\n",
    "plt.legend()\n",
    "plt.title(r'current vs relative horn angle $\\psi$')"
   ]
  },
  {
   "cell_type": "markdown",
   "metadata": {},
   "source": [
    "The detected intensity of the signal varies sinusoidally like vector projections, so it seems that instead of blocking waves that are perpendicular to it, the polarizer blocks the perpendicular **components** of all of the waves that pass through it."
   ]
  },
  {
   "cell_type": "markdown",
   "metadata": {},
   "source": [
    "Because the transmitted wave will have absolutely no component in the direction of the receiver's detection direction, the receiver simply will not detect anything. However, when the slotted metal plate was added, a signal was detected. According to Malus' law, \n",
    "$I=I_{max}\\cos^2{\\phi}$\n",
    "\n",
    "Given that the plate and transmitter were initially perpendicular, Malus' law states that the intensity measured would be zero at 90 degrees, which it was, and it increased to it's maximum when the transmitter was at 0 and 180 degrees and produced waves parallel to the slots in the plate, meaning that the plate did simply block polarization."
   ]
  },
  {
   "cell_type": "markdown",
   "metadata": {},
   "source": [
    "### Explore Reflection Phenomena\n",
    "Verify that microwaves incident on a metal plate follow the law of specular reflection. With the\n",
    "transmitter at one end of one goniometer track, and the receiver at the other, set a fixed angle between\n",
    "the two tracks somewhere between 70 degrees and 110 degrees. Mount a solid metal plate on the\n",
    "goniometer protractor. Now record the detected signal while rotating the metal plate in 10 degree\n",
    "increments, keeping the angle between the transmitter and receiver fixed. Submit a plot of this\n",
    "experiment."
   ]
  },
  {
   "cell_type": "markdown",
   "metadata": {},
   "source": [
    "*Data for this section was collected by Aidan McGirr's group as this section was accidentally ommitted on account of the lab manual change.*"
   ]
  },
  {
   "cell_type": "code",
   "execution_count": 160,
   "metadata": {
    "collapsed": true
   },
   "outputs": [],
   "source": [
    "angles = [90, 100, 110, 120, 130, 140, 150, 160, 170, 180]\n",
    "currents = [0, .01, .03, .04, .39, .2, .03, 0, 0, 0]"
   ]
  },
  {
   "cell_type": "code",
   "execution_count": 161,
   "metadata": {
    "collapsed": true
   },
   "outputs": [],
   "source": [
    "reflectordata = pd.DataFrame({'angle':angles, 'current':currents}, columns=['angle', 'current'])"
   ]
  },
  {
   "cell_type": "code",
   "execution_count": 162,
   "metadata": {},
   "outputs": [
    {
     "data": {
      "text/plain": [
       "Text(0.5,1,'current vs angle with reflector')"
      ]
     },
     "execution_count": 162,
     "metadata": {},
     "output_type": "execute_result"
    },
    {
     "data": {
      "image/png": "[encoded data removed]",
      "text/plain": [
       "<matplotlib.figure.Figure at 0x7fd38515d198>"
      ]
     },
     "metadata": {},
     "output_type": "display_data"
    }
   ],
   "source": [
    "plt.scatter(reflectordata['angle'], reflectordata['current'])\n",
    "plt.xlabel(r'angle ($^\\circ$)')\n",
    "plt.ylabel('current (mA)')\n",
    "plt.legend()\n",
    "plt.title(r'current vs angle with reflector')"
   ]
  },
  {
   "cell_type": "markdown",
   "metadata": {},
   "source": [
    "### Use Standing Waves to Measure the Wave Speed\n",
    "Mount a metal plate on the goniometer's receiver arm to reflect the microwaves directly back into the\n",
    "transmitter. This can give rise to standing waves between the transmitter horn and the reflector plate.\n",
    "Detect them by mounting the detector probe between the transmitter and reflector and connecting its\n",
    "output to the receiver. The meter now reads the signal at the probe’s position. Adjust the positions of\n",
    "the transmitter and reflector to get a strong standing wave, and then map out the standing wave signal\n",
    "with the detector probe. Record the position(s) at which signal minima are observed, and use this to\n",
    "determine the microwave wavelength. Combine this result with the known generator frequency (10.5\n",
    "GHz) to determine the speed of microwave propagation.\n",
    "Make a plot of your data to visualize the standing wave and report the wave speed as 𝜈 ± 𝛿𝜈 with\n",
    "appropriate units. Does this number look familiar? For a perfect standing wave pattern, what should\n",
    "the wave amplitudes be at the reflector and transmitter ends (are they nodes or antinodes)?"
   ]
  },
  {
   "cell_type": "markdown",
   "metadata": {},
   "source": [
    "*Data for this section was collected by Madison Grayson's group as the standing wave generated by this group did not produce multiple extrema.*"
   ]
  },
  {
   "cell_type": "code",
   "execution_count": 163,
   "metadata": {
    "collapsed": true
   },
   "outputs": [],
   "source": [
    "positions = [30.5, 30.6, 30.7, 30.8, 30.9, 31, 31.1, 31.2, 31.3, 31.4, 31.5, 32, 32.5, 33, 33.5, 33.6, 33.7,\n",
    "             33.8, 33.9, 34, 34.5, 35, 35.1, 35.2, 35.3, 35.4, 35.5, 35.6, 35.7, 35.8, 35.9, 36, 36.5, 37]\n",
    "currents = [0.38, 0.42, 0.42, 0.42, 0.48, 0.43, 0.5, 0.56, 0.56, 0.53, 0.48, 0.46, 0.48, 0.4, 0.46, 0.48,\n",
    "            0.52, 0.53, 0.52, 0.46, 0.34, 0.34, 0.38, 0.39, 0.39, 0.36, 0.38, 0.36, 0.34, 0.3, 0.24, 0.28, 0.36, 0.43]"
   ]
  },
  {
   "cell_type": "code",
   "execution_count": 164,
   "metadata": {},
   "outputs": [],
   "source": [
    "standwaves = pd.DataFrame({'position':positions, 'current':currents}, columns=['position', 'current'])"
   ]
  },
  {
   "cell_type": "code",
   "execution_count": 155,
   "metadata": {
    "scrolled": true
   },
   "outputs": [
    {
     "data": {
      "text/html": [
       "<div>\n",
       "<style>\n",
       "    .dataframe thead tr:only-child th {\n",
       "        text-align: right;\n",
       "    }\n",
       "\n",
       "    .dataframe thead th {\n",
       "        text-align: left;\n",
       "    }\n",
       "\n",
       "    .dataframe tbody tr th {\n",
       "        vertical-align: top;\n",
       "    }\n",
       "</style>\n",
       "<table border=\"1\" class=\"dataframe\">\n",
       "  <thead>\n",
       "    <tr style=\"text-align: right;\">\n",
       "      <th></th>\n",
       "      <th>position</th>\n",
       "      <th>current</th>\n",
       "    </tr>\n",
       "  </thead>\n",
       "  <tbody>\n",
       "    <tr>\n",
       "      <th>0</th>\n",
       "      <td>30.5</td>\n",
       "      <td>0.38</td>\n",
       "    </tr>\n",
       "    <tr>\n",
       "      <th>1</th>\n",
       "      <td>30.6</td>\n",
       "      <td>0.42</td>\n",
       "    </tr>\n",
       "    <tr>\n",
       "      <th>2</th>\n",
       "      <td>30.7</td>\n",
       "      <td>0.42</td>\n",
       "    </tr>\n",
       "    <tr>\n",
       "      <th>3</th>\n",
       "      <td>30.8</td>\n",
       "      <td>0.42</td>\n",
       "    </tr>\n",
       "    <tr>\n",
       "      <th>4</th>\n",
       "      <td>30.9</td>\n",
       "      <td>0.48</td>\n",
       "    </tr>\n",
       "    <tr>\n",
       "      <th>5</th>\n",
       "      <td>31.0</td>\n",
       "      <td>0.43</td>\n",
       "    </tr>\n",
       "    <tr>\n",
       "      <th>6</th>\n",
       "      <td>31.1</td>\n",
       "      <td>0.50</td>\n",
       "    </tr>\n",
       "    <tr>\n",
       "      <th>7</th>\n",
       "      <td>31.2</td>\n",
       "      <td>0.56</td>\n",
       "    </tr>\n",
       "    <tr>\n",
       "      <th>8</th>\n",
       "      <td>31.3</td>\n",
       "      <td>0.56</td>\n",
       "    </tr>\n",
       "    <tr>\n",
       "      <th>9</th>\n",
       "      <td>31.4</td>\n",
       "      <td>0.53</td>\n",
       "    </tr>\n",
       "    <tr>\n",
       "      <th>10</th>\n",
       "      <td>31.5</td>\n",
       "      <td>0.48</td>\n",
       "    </tr>\n",
       "    <tr>\n",
       "      <th>11</th>\n",
       "      <td>32.0</td>\n",
       "      <td>0.46</td>\n",
       "    </tr>\n",
       "    <tr>\n",
       "      <th>12</th>\n",
       "      <td>32.5</td>\n",
       "      <td>0.48</td>\n",
       "    </tr>\n",
       "    <tr>\n",
       "      <th>13</th>\n",
       "      <td>33.0</td>\n",
       "      <td>0.40</td>\n",
       "    </tr>\n",
       "    <tr>\n",
       "      <th>14</th>\n",
       "      <td>33.5</td>\n",
       "      <td>0.46</td>\n",
       "    </tr>\n",
       "    <tr>\n",
       "      <th>15</th>\n",
       "      <td>33.6</td>\n",
       "      <td>0.48</td>\n",
       "    </tr>\n",
       "    <tr>\n",
       "      <th>16</th>\n",
       "      <td>33.7</td>\n",
       "      <td>0.52</td>\n",
       "    </tr>\n",
       "    <tr>\n",
       "      <th>17</th>\n",
       "      <td>33.8</td>\n",
       "      <td>0.53</td>\n",
       "    </tr>\n",
       "    <tr>\n",
       "      <th>18</th>\n",
       "      <td>33.9</td>\n",
       "      <td>0.52</td>\n",
       "    </tr>\n",
       "    <tr>\n",
       "      <th>19</th>\n",
       "      <td>34.0</td>\n",
       "      <td>0.46</td>\n",
       "    </tr>\n",
       "    <tr>\n",
       "      <th>20</th>\n",
       "      <td>34.5</td>\n",
       "      <td>0.34</td>\n",
       "    </tr>\n",
       "    <tr>\n",
       "      <th>21</th>\n",
       "      <td>35.0</td>\n",
       "      <td>0.34</td>\n",
       "    </tr>\n",
       "    <tr>\n",
       "      <th>22</th>\n",
       "      <td>35.1</td>\n",
       "      <td>0.38</td>\n",
       "    </tr>\n",
       "    <tr>\n",
       "      <th>23</th>\n",
       "      <td>35.2</td>\n",
       "      <td>0.39</td>\n",
       "    </tr>\n",
       "    <tr>\n",
       "      <th>24</th>\n",
       "      <td>35.3</td>\n",
       "      <td>0.39</td>\n",
       "    </tr>\n",
       "    <tr>\n",
       "      <th>25</th>\n",
       "      <td>35.4</td>\n",
       "      <td>0.36</td>\n",
       "    </tr>\n",
       "    <tr>\n",
       "      <th>26</th>\n",
       "      <td>35.5</td>\n",
       "      <td>0.38</td>\n",
       "    </tr>\n",
       "    <tr>\n",
       "      <th>27</th>\n",
       "      <td>35.6</td>\n",
       "      <td>0.36</td>\n",
       "    </tr>\n",
       "    <tr>\n",
       "      <th>28</th>\n",
       "      <td>35.7</td>\n",
       "      <td>0.34</td>\n",
       "    </tr>\n",
       "    <tr>\n",
       "      <th>29</th>\n",
       "      <td>35.8</td>\n",
       "      <td>0.30</td>\n",
       "    </tr>\n",
       "    <tr>\n",
       "      <th>30</th>\n",
       "      <td>35.9</td>\n",
       "      <td>0.24</td>\n",
       "    </tr>\n",
       "    <tr>\n",
       "      <th>31</th>\n",
       "      <td>36.0</td>\n",
       "      <td>0.28</td>\n",
       "    </tr>\n",
       "    <tr>\n",
       "      <th>32</th>\n",
       "      <td>36.5</td>\n",
       "      <td>0.36</td>\n",
       "    </tr>\n",
       "    <tr>\n",
       "      <th>33</th>\n",
       "      <td>37.0</td>\n",
       "      <td>0.43</td>\n",
       "    </tr>\n",
       "  </tbody>\n",
       "</table>\n",
       "</div>"
      ],
      "text/plain": [
       "    position  current\n",
       "0       30.5     0.38\n",
       "1       30.6     0.42\n",
       "2       30.7     0.42\n",
       "3       30.8     0.42\n",
       "4       30.9     0.48\n",
       "5       31.0     0.43\n",
       "6       31.1     0.50\n",
       "7       31.2     0.56\n",
       "8       31.3     0.56\n",
       "9       31.4     0.53\n",
       "10      31.5     0.48\n",
       "11      32.0     0.46\n",
       "12      32.5     0.48\n",
       "13      33.0     0.40\n",
       "14      33.5     0.46\n",
       "15      33.6     0.48\n",
       "16      33.7     0.52\n",
       "17      33.8     0.53\n",
       "18      33.9     0.52\n",
       "19      34.0     0.46\n",
       "20      34.5     0.34\n",
       "21      35.0     0.34\n",
       "22      35.1     0.38\n",
       "23      35.2     0.39\n",
       "24      35.3     0.39\n",
       "25      35.4     0.36\n",
       "26      35.5     0.38\n",
       "27      35.6     0.36\n",
       "28      35.7     0.34\n",
       "29      35.8     0.30\n",
       "30      35.9     0.24\n",
       "31      36.0     0.28\n",
       "32      36.5     0.36\n",
       "33      37.0     0.43"
      ]
     },
     "execution_count": 155,
     "metadata": {},
     "output_type": "execute_result"
    }
   ],
   "source": [
    "standwaves"
   ]
  },
  {
   "cell_type": "code",
   "execution_count": 157,
   "metadata": {
    "scrolled": true
   },
   "outputs": [
    {
     "data": {
      "text/plain": [
       "Text(0.5,1,'current vs position in a standing wave')"
      ]
     },
     "execution_count": 157,
     "metadata": {},
     "output_type": "execute_result"
    },
    {
     "data": {
      "image/png": "[encoded data removed]",
      "text/plain": [
       "<matplotlib.figure.Figure at 0x7fd38524d978>"
      ]
     },
     "metadata": {},
     "output_type": "display_data"
    }
   ],
   "source": [
    "plt.scatter(standwaves['position'], standwaves['current'])\n",
    "plt.xlabel(r'position (cm)')\n",
    "plt.ylabel('current (mA)')\n",
    "plt.legend()\n",
    "plt.title(r'current vs position in a standing wave')"
   ]
  },
  {
   "cell_type": "code",
   "execution_count": 168,
   "metadata": {
    "collapsed": true
   },
   "outputs": [],
   "source": [
    "res = fit_sin(standwaves['position'], standwaves['current'])"
   ]
  },
  {
   "cell_type": "code",
   "execution_count": 169,
   "metadata": {
    "collapsed": true
   },
   "outputs": [],
   "source": [
    "est = res['fitfunc'](standwaves['position'])"
   ]
  },
  {
   "cell_type": "code",
   "execution_count": 170,
   "metadata": {
    "collapsed": true
   },
   "outputs": [],
   "source": [
    "std = np.sqrt(np.diag(res['rawres'][2]))"
   ]
  },
  {
   "cell_type": "code",
   "execution_count": 173,
   "metadata": {
    "scrolled": true
   },
   "outputs": [
    {
     "data": {
      "text/plain": [
       "Text(0.5,1,'current vs position in a standing wave')"
      ]
     },
     "execution_count": 173,
     "metadata": {},
     "output_type": "execute_result"
    },
    {
     "data": {
      "image/png": "[encoded data removed]",
      "text/plain": [
       "<matplotlib.figure.Figure at 0x7fd384fb3d30>"
      ]
     },
     "metadata": {},
     "output_type": "display_data"
    }
   ],
   "source": [
    "plt.scatter(standwaves['position'], standwaves['current'], label='experimental data')\n",
    "plt.plot(standwaves['position'], est,c=(1,0,0), label='fitted data')\n",
    "plt.xlabel(r'position (cm)')\n",
    "plt.ylabel('current (mA)')\n",
    "plt.legend()\n",
    "plt.title(r'current vs position in a standing wave')"
   ]
  },
  {
   "cell_type": "markdown",
   "metadata": {},
   "source": [
    "The fitted equation is $I(r) = .078 \\sin{(2.141\\theta - 8.921)} + .418$."
   ]
  },
  {
   "cell_type": "markdown",
   "metadata": {},
   "source": [
    "$A = 0.078 \\pm .015$\n",
    "\n",
    "$\\omega = 2.141 \\pm .097$\n",
    "\n",
    "$\\phi = 8.921 \\pm 3.256$\n",
    "\n",
    "$c = .418 \\pm .011$"
   ]
  },
  {
   "cell_type": "markdown",
   "metadata": {},
   "source": [
    "### Bonus\n",
    "Calculate the E-field and B-fields at the reflection plate? Is there any surface charge\n",
    "density 𝜎 on the plate? Submit a plot 𝜎 in the plane."
   ]
  },
  {
   "cell_type": "markdown",
   "metadata": {},
   "source": [
    "### Submission\n",
    "This lab is an exploration lab, hence a full lab report is not required. Submit a homework style\n",
    "assignment answering all questions, rendering all plots, and calculating all quantiles assigned. All\n",
    "measurements must be reported with uncertainty – if you are using a plot to report your data use error\n",
    "bars for each measured point – and all calculated quantities must be reported with uncertainty as well."
   ]
  }
 ],
 "metadata": {
  "kernelspec": {
   "display_name": "Python 3",
   "language": "python",
   "name": "python3"
  },
  "language_info": {
   "codemirror_mode": {
    "name": "ipython",
    "version": 3
   },
   "file_extension": ".py",
   "mimetype": "text/x-python",
   "name": "python",
   "nbconvert_exporter": "python",
   "pygments_lexer": "ipython3",
   "version": "3.6.3"
  }
 },
 "nbformat": 4,
 "nbformat_minor": 2
}
