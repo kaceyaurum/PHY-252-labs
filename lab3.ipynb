{
 "cells": [
  {
   "cell_type": "markdown",
   "metadata": {},
   "source": [
    "roomtemp = 23 \\degrees C\n"
   ]
  },
  {
   "cell_type": "markdown",
   "metadata": {},
   "source": [
    "m = 936.2 g + 4*2kg + 933g"
   ]
  },
  {
   "cell_type": "code",
   "execution_count": 12,
   "metadata": {},
   "outputs": [],
   "source": [
    "res00 = 81\n",
    "\n",
    "#every10\n",
    "\n",
    "hres0 = 79.4\n",
    "hres1 = 76.6\n",
    "hres2 = 74.0\n",
    "hres3 = 71.5\n",
    "hres4 = 69.1\n",
    "hres5 = 66.8\n",
    "hres6 = 64.8\n",
    "hres7 = 62.8\n",
    "hres8 = 60.9\n",
    "hres9 = 59.1\n",
    "hres10 = 57.3\n",
    "hres11 = 55.6\n",
    "hres12 = 54.1\n",
    "hres13 = 52.6\n",
    "hres14 = 51.1\n",
    "\n",
    "#up10degs\n",
    "#1/min\n",
    "\n",
    "cres1 = 51.9\n",
    "cres2 = 53.5\n",
    "cres3 = 55.1\n",
    "cres4 = 56.6\n",
    "cres5 = 58.1\n",
    "cres6 = 59.5\n",
    "cres7 = 60.8\n",
    "#stop\n",
    "#down5degs"
   ]
  },
  {
   "cell_type": "code",
   "execution_count": 13,
   "metadata": {
    "collapsed": true
   },
   "outputs": [],
   "source": [
    "ht0 = 0\n",
    "ht1 = 11.05\n",
    "ht2 = 10.60\n",
    "ht3 = 12.12\n",
    "ht4 = 12.44\n",
    "ht5 = 12.15\n",
    "ht6 = 12.16\n",
    "ht7 = 12.23\n",
    "ht8 = 12.29\n",
    "ht9 = 12.18\n",
    "ht10 = 12.46\n",
    "ht11 = 12.45\n",
    "ht12 = 12.63\n",
    "ht13 = 12.43\n",
    "ht14 = 12.70\n",
    "ct1 = 60.20\n",
    "ct2 = 60.06\n",
    "ct3 = 59.96\n",
    "ct4 = 60.13\n",
    "ct5 = 60.23\n",
    "ct6 = 60.12\n",
    "ct7 = 60.16"
   ]
  },
  {
   "cell_type": "code",
   "execution_count": 14,
   "metadata": {},
   "outputs": [],
   "source": [
    "sres00 = 68.6\n",
    "f = 1+-.05\n",
    "\n",
    "#every10\n",
    "\n",
    "shres0 = 66.1\n",
    "shres1 = 64.0\n",
    "shres2 = 61.9\n",
    "shres3 = 60.0\n",
    "shres4 = 58.2\n",
    "shres5 = 56.4\n",
    "shres6 = 54.8\n",
    "shres7 = 53.2\n",
    "shres8 = 51.7\n",
    "shres9 = 50.2\n",
    "shres10 = 48.9\n",
    "shres11 = 47.5\n",
    "shres12 = 46.3\n",
    "shres13 = 45.1\n",
    "shres14 = 44.0\n",
    "shres15 = 42.9\n",
    "\n",
    "#up10degs\n",
    "#1/min\n",
    "\n",
    "scres1 = 44.4\n",
    "scres2 = 46.1\n",
    "scres3 = 47.7\n",
    "scres4 = 49.2\n",
    "scres5 = 50.7\n",
    "scres6 = 52.1\n",
    "#stop\n",
    "#down5degs"
   ]
  },
  {
   "cell_type": "code",
   "execution_count": 15,
   "metadata": {},
   "outputs": [],
   "source": [
    "sht0 = 0\n",
    "sht1 = 10.15\n",
    "sht2 = 10.67\n",
    "sht3 = 10.37\n",
    "sht4 = 10.83\n",
    "sht5 = 11.32\n",
    "sht6 = 11.27\n",
    "sht7 = 11.15\n",
    "sht8 = 11.11\n",
    "sht9 = 11.15\n",
    "sht10 = 11.51\n",
    "sht11 = 12.38\n",
    "sht12 = 12.06\n",
    "sht13 = 12.41\n",
    "sht14 = 12.53\n",
    "sht15 = 12.46\n",
    "sct1 = 60.67\n",
    "sct2 = 60.10\n",
    "sct3 = 60.40\n",
    "sct4 = 60.13\n",
    "sct5 = 60.02\n",
    "sct6 = 59.82"
   ]
  },
  {
   "cell_type": "code",
   "execution_count": null,
   "metadata": {
    "collapsed": true
   },
   "outputs": [],
   "source": []
  }
 ],
 "metadata": {
  "kernelspec": {
   "display_name": "Python 3",
   "language": "python",
   "name": "python3"
  },
  "language_info": {
   "codemirror_mode": {
    "name": "ipython",
    "version": 3
   },
   "file_extension": ".py",
   "mimetype": "text/x-python",
   "name": "python",
   "nbconvert_exporter": "python",
   "pygments_lexer": "ipython3",
   "version": "3.6.3"
  }
 },
 "nbformat": 4,
 "nbformat_minor": 2
}
